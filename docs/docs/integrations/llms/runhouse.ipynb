{
 "cells": [
  {
   "cell_type": "markdown",
   "id": "9597802c",
   "metadata": {},
   "source": [
    "# Runhouse\n",
    "\n",
    "The [Runhouse](https://github.com/run-house/runhouse) allows remote compute and data across environments and users. See the [Runhouse docs](https://runhouse-docs.readthedocs-hosted.com/en/latest/).\n",
    "\n",
    "This example goes over how to use LangChain and [Runhouse](https://github.com/run-house/runhouse) to interact with models hosted on your own GPU, or on-demand GPUs on AWS, GCP, AWS, or Lambda.\n",
    "\n",
    "**Note**: Code uses `SelfHosted` name instead of the `Runhouse`."
   ]
  },
  {
   "cell_type": "code",
   "execution_count": 14,
   "id": "6066fede-2300-4173-9722-6f01f4fa34b4",
   "metadata": {
    "tags": []
   },
   "outputs": [
    {
     "name": "stdout",
     "output_type": "stream",
     "text": [
      "Note: you may need to restart the kernel to use updated packages.\n",
      "Note: you may need to restart the kernel to use updated packages.\n"
     ]
    }
   ],
   "source": [
    "%pip install --upgrade --quiet git+https://github.com/run-house/runhouse.git@sb/fixes_langchain_integration#egg=runhouse\n",
    "%pip install --upgrade --quiet \"skypilot[aws]\""
   ]
  },
  {
   "cell_type": "code",
   "execution_count": 1,
   "id": "6fb585dd",
   "metadata": {
    "tags": []
   },
   "outputs": [],
   "source": [
    "import runhouse as rh\n",
    "from langchain.chains import LLMChain\n",
    "from langchain.prompts import PromptTemplate\n",
    "from langchain_community.llms import SelfHostedHuggingFaceLLM, SelfHostedPipeline\n",
    "from langchain_community.llms.self_hosted_hugging_face import _generate_text, _load_transformer"
   ]
  },
  {
   "cell_type": "code",
   "execution_count": 5,
   "id": "6fad6961-60f8-4af4-bbf0-87bd10a5be22",
   "metadata": {},
   "outputs": [
    {
     "name": "stdout",
     "output_type": "stream",
     "text": [
      "INFO | 2024-03-11 14:19:59.384189 | Connected (version 2.0, client OpenSSH_8.2p1)\n",
      "INFO | 2024-03-11 14:20:00.212407 | Authentication (publickey) successful!\n",
      "WARNING | 2024-03-11 14:20:01.222810 | Server was started with Runhouse version (0.0.20), but local Runhouse version is (0.0.21)\n",
      "INFO | 2024-03-11 14:20:01.223769 | Server sasha-ondemand-cluster is up.\n",
      "\u001b[1;94m😈 Runhouse Daemon is running 🏃\u001b[0m\n",
      "\u001b[35m/sashab/\u001b[0m\u001b[95msasha-ondemand-cluster\u001b[0m\n",
      "• server_port: \u001b[1;36m32300\u001b[0m\n",
      "• server_connection_type: ssh\n",
      "• den_auth: \u001b[3;91mFalse\u001b[0m\n",
      "• backend config:\n",
      "        • resource_type: cluster\n",
      "        • resource_subtype: OnDemandCluster\n",
      "        • provenance: \u001b[3;35mNone\u001b[0m\n",
      "        • visibility: private\n",
      "        • ips: \u001b[1m[\u001b[0m\u001b[32m'34.205.76.106'\u001b[0m\u001b[1m]\u001b[0m\n",
      "        • use_local_telemetry: \u001b[3;91mFalse\u001b[0m\n",
      "        • ssh_port: \u001b[1;36m22\u001b[0m\n",
      "        • instance_type: \u001b[3;35mNone\u001b[0m\n",
      "        • num_instances: \u001b[3;35mNone\u001b[0m\n",
      "        • provider: cheapest\n",
      "        • autostop_mins: \u001b[1;36m-1\u001b[0m\n",
      "        • open_ports: \u001b[1m[\u001b[0m\u001b[1m]\u001b[0m\n",
      "        • use_spot: \u001b[3;91mFalse\u001b[0m\n",
      "        • image_id: \u001b[3;35mNone\u001b[0m\n",
      "        • region: \u001b[3;35mNone\u001b[0m\n",
      "        • head_ip: \u001b[1;92m34.205.76.106\u001b[0m\n",
      "        • stable_internal_external_ips: \u001b[1m[\u001b[0m\u001b[1m[\u001b[0m\u001b[32m'172.31.92.27'\u001b[0m, \u001b[32m'34.205.76.106'\u001b[0m\u001b[1m]\u001b[0m\u001b[1m]\u001b[0m\n",
      "        • domain: \u001b[3;35mNone\u001b[0m\n",
      "        • server_host: \u001b[1;92m0.0.0.0\u001b[0m\n",
      "\u001b[1mServing 🍦 :\u001b[0m\n",
      "\u001b[3;4mbase \u001b[0m\u001b[1;3;4m(\u001b[0m\u001b[3;4mEnv\u001b[0m\u001b[1;3;4m)\u001b[0m\u001b[3;4m:\u001b[0m\n",
      "•file_20240311_150015 \u001b[1m(\u001b[0mrunhouse.resources.blobs.file.File\u001b[1m)\u001b[0m\n",
      "•file_20240311_150230 \u001b[1m(\u001b[0mrunhouse.resources.blobs.file.File\u001b[1m)\u001b[0m\n",
      "•huggingface \n",
      "\u001b[1m(\u001b[0mrunhouse.resources.secrets.provider_secrets.huggingface_secret.HuggingFaceSecre\n",
      "t\u001b[1m)\u001b[0m\n",
      "•file_20240311_150948 \u001b[1m(\u001b[0mrunhouse.resources.blobs.file.File\u001b[1m)\u001b[0m\n",
      "\u001b[3;4mbase_env \u001b[0m\u001b[1;3;4m(\u001b[0m\u001b[3;4mrunhouse.resources.envs.env.Env\u001b[0m\u001b[1;3;4m)\u001b[0m\u001b[3;4m:\u001b[0m\n",
      "•MyCalc \u001b[1m(\u001b[0mabc.MyCalc\u001b[1m)\u001b[0m\n",
      "\u001b[3;4mmodel_env15 \u001b[0m\u001b[1;3;4m(\u001b[0m\u001b[3;4mrunhouse.resources.envs.env.Env\u001b[0m\u001b[1;3;4m)\u001b[0m\u001b[3;4m:\u001b[0m\n",
      "•_load_transformer \u001b[1m(\u001b[0mrunhouse.resources.functions.function.Function\u001b[1m)\u001b[0m\n",
      "\u001b[0m"
     ]
    }
   ],
   "source": [
    "!runhouse status \"/sashab/sasha-ondemand-cluster\""
   ]
  },
  {
   "cell_type": "code",
   "execution_count": 2,
   "id": "06d6866e",
   "metadata": {
    "tags": []
   },
   "outputs": [],
   "source": [
    "# For an on-demand A100 with GCP, Azure, or Lambda\n",
    "gpu = rh.cluster(name=\"rh-a10x\", instance_type=\"A100:1\", use_spot=False)\n",
    "\n",
    "# For an on-demand A10G with AWS (no single A100s on AWS)\n",
    "# gpu = rh.cluster(name='rh-a10x', instance_type='g5.2xlarge', provider='aws')\n",
    "\n",
    "# For an existing cluster\n",
    "# gpu = rh.cluster(ips=['<ip of the cluster>'],\n",
    "#                  ssh_creds={'ssh_user': '...', 'ssh_private_key':'<path_to_key>'},\n",
    "#                  name='rh-a10x')"
   ]
  },
  {
   "cell_type": "code",
   "execution_count": 3,
   "id": "31e1b061-a5ac-4ef3-a5cc-039f56bf7304",
   "metadata": {},
   "outputs": [
    {
     "name": "stdout",
     "output_type": "stream",
     "text": [
      "I 03-11 16:10:32 optimizer.py:1206] No resource satisfying <Cloud>({'A100': 1}) on AWS.\n",
      "I 03-11 16:10:32 optimizer.py:1210] Did you mean: \u001b[36m['A100-80GB:8', 'A100:8']\u001b[0m\n"
     ]
    },
    {
     "ename": "ResourcesUnavailableError",
     "evalue": "Catalog does not contain any instances satisfying the request:\nTask(run=<empty>)\n  resources: <Cloud>({'A100': 1}).\n\nTo fix: relax or change the resource requirements.\nTry one of these offered accelerators: \u001b[36m['A100-80GB:8', 'A100:8']\u001b[0m\n\nHint: \u001b[1msky show-gpus\u001b[0m to list available accelerators.\n      \u001b[1msky check\u001b[0m to check the enabled clouds.",
     "output_type": "error",
     "traceback": [
      "\u001b[0;31m---------------------------------------------------------------------------\u001b[0m",
      "\u001b[0;31mResourcesUnavailableError\u001b[0m                 Traceback (most recent call last)",
      "Cell \u001b[0;32mIn[3], line 1\u001b[0m\n\u001b[0;32m----> 1\u001b[0m \u001b[43mgpu\u001b[49m\u001b[38;5;241;43m.\u001b[39;49m\u001b[43mup\u001b[49m\u001b[43m(\u001b[49m\u001b[43m)\u001b[49m\n",
      "File \u001b[0;32m~/miniforge3/envs/rh_langchain_env/lib/python3.9/site-packages/runhouse/resources/hardware/on_demand_cluster.py:404\u001b[0m, in \u001b[0;36mOnDemandCluster.up\u001b[0;34m(self)\u001b[0m\n\u001b[1;32m    398\u001b[0m     \u001b[38;5;28;01mif\u001b[39;00m Path(\u001b[38;5;124m\"\u001b[39m\u001b[38;5;124m~/.rh\u001b[39m\u001b[38;5;124m\"\u001b[39m)\u001b[38;5;241m.\u001b[39mexpanduser()\u001b[38;5;241m.\u001b[39mexists():\n\u001b[1;32m    399\u001b[0m         task\u001b[38;5;241m.\u001b[39mset_file_mounts(\n\u001b[1;32m    400\u001b[0m             {\n\u001b[1;32m    401\u001b[0m                 \u001b[38;5;124m\"\u001b[39m\u001b[38;5;124m~/.rh\u001b[39m\u001b[38;5;124m\"\u001b[39m: \u001b[38;5;124m\"\u001b[39m\u001b[38;5;124m~/.rh\u001b[39m\u001b[38;5;124m\"\u001b[39m,\n\u001b[1;32m    402\u001b[0m             }\n\u001b[1;32m    403\u001b[0m         )\n\u001b[0;32m--> 404\u001b[0m     \u001b[43msky\u001b[49m\u001b[38;5;241;43m.\u001b[39;49m\u001b[43mlaunch\u001b[49m\u001b[43m(\u001b[49m\n\u001b[1;32m    405\u001b[0m \u001b[43m        \u001b[49m\u001b[43mtask\u001b[49m\u001b[43m,\u001b[49m\n\u001b[1;32m    406\u001b[0m \u001b[43m        \u001b[49m\u001b[43mcluster_name\u001b[49m\u001b[38;5;241;43m=\u001b[39;49m\u001b[38;5;28;43mself\u001b[39;49m\u001b[38;5;241;43m.\u001b[39;49m\u001b[43mname\u001b[49m\u001b[43m,\u001b[49m\n\u001b[1;32m    407\u001b[0m \u001b[43m        \u001b[49m\u001b[43midle_minutes_to_autostop\u001b[49m\u001b[38;5;241;43m=\u001b[39;49m\u001b[38;5;28;43mself\u001b[39;49m\u001b[38;5;241;43m.\u001b[39;49m\u001b[43mautostop_mins\u001b[49m\u001b[43m,\u001b[49m\n\u001b[1;32m    408\u001b[0m \u001b[43m        \u001b[49m\u001b[43mdown\u001b[49m\u001b[38;5;241;43m=\u001b[39;49m\u001b[38;5;28;43;01mTrue\u001b[39;49;00m\u001b[43m,\u001b[49m\n\u001b[1;32m    409\u001b[0m \u001b[43m    \u001b[49m\u001b[43m)\u001b[49m\n\u001b[1;32m    410\u001b[0m \u001b[38;5;28;01melse\u001b[39;00m:\n\u001b[1;32m    411\u001b[0m     \u001b[38;5;28;01mraise\u001b[39;00m \u001b[38;5;167;01mValueError\u001b[39;00m(\u001b[38;5;124mf\u001b[39m\u001b[38;5;124m\"\u001b[39m\u001b[38;5;124mCluster provider \u001b[39m\u001b[38;5;132;01m{\u001b[39;00m\u001b[38;5;28mself\u001b[39m\u001b[38;5;241m.\u001b[39mprovider\u001b[38;5;132;01m}\u001b[39;00m\u001b[38;5;124m not supported.\u001b[39m\u001b[38;5;124m\"\u001b[39m)\n",
      "File \u001b[0;32m~/miniforge3/envs/rh_langchain_env/lib/python3.9/site-packages/sky/utils/common_utils.py:371\u001b[0m, in \u001b[0;36mmake_decorator.<locals>._record\u001b[0;34m(*args, **kwargs)\u001b[0m\n\u001b[1;32m    369\u001b[0m     full_name \u001b[38;5;241m=\u001b[39m func_name\n\u001b[1;32m    370\u001b[0m \u001b[38;5;28;01mwith\u001b[39;00m \u001b[38;5;28mcls\u001b[39m(full_name, \u001b[38;5;241m*\u001b[39m\u001b[38;5;241m*\u001b[39mctx_kwargs):\n\u001b[0;32m--> 371\u001b[0m     \u001b[38;5;28;01mreturn\u001b[39;00m \u001b[43mf\u001b[49m\u001b[43m(\u001b[49m\u001b[38;5;241;43m*\u001b[39;49m\u001b[43margs\u001b[49m\u001b[43m,\u001b[49m\u001b[43m \u001b[49m\u001b[38;5;241;43m*\u001b[39;49m\u001b[38;5;241;43m*\u001b[39;49m\u001b[43mkwargs\u001b[49m\u001b[43m)\u001b[49m\n",
      "File \u001b[0;32m~/miniforge3/envs/rh_langchain_env/lib/python3.9/site-packages/sky/utils/common_utils.py:371\u001b[0m, in \u001b[0;36mmake_decorator.<locals>._record\u001b[0;34m(*args, **kwargs)\u001b[0m\n\u001b[1;32m    369\u001b[0m     full_name \u001b[38;5;241m=\u001b[39m func_name\n\u001b[1;32m    370\u001b[0m \u001b[38;5;28;01mwith\u001b[39;00m \u001b[38;5;28mcls\u001b[39m(full_name, \u001b[38;5;241m*\u001b[39m\u001b[38;5;241m*\u001b[39mctx_kwargs):\n\u001b[0;32m--> 371\u001b[0m     \u001b[38;5;28;01mreturn\u001b[39;00m \u001b[43mf\u001b[49m\u001b[43m(\u001b[49m\u001b[38;5;241;43m*\u001b[39;49m\u001b[43margs\u001b[49m\u001b[43m,\u001b[49m\u001b[43m \u001b[49m\u001b[38;5;241;43m*\u001b[39;49m\u001b[38;5;241;43m*\u001b[39;49m\u001b[43mkwargs\u001b[49m\u001b[43m)\u001b[49m\n",
      "File \u001b[0;32m~/miniforge3/envs/rh_langchain_env/lib/python3.9/site-packages/sky/execution.py:498\u001b[0m, in \u001b[0;36mlaunch\u001b[0;34m(task, cluster_name, retry_until_up, idle_minutes_to_autostop, dryrun, down, stream_logs, backend, optimize_target, detach_setup, detach_run, no_setup, clone_disk_from, _is_launched_by_spot_controller, _is_launched_by_sky_serve_controller, _disable_controller_check)\u001b[0m\n\u001b[1;32m    494\u001b[0m \u001b[38;5;28;01mif\u001b[39;00m \u001b[38;5;129;01mnot\u001b[39;00m _disable_controller_check:\n\u001b[1;32m    495\u001b[0m     controller_utils\u001b[38;5;241m.\u001b[39mcheck_cluster_name_not_controller(\n\u001b[1;32m    496\u001b[0m         cluster_name, operation_str\u001b[38;5;241m=\u001b[39m\u001b[38;5;124m'\u001b[39m\u001b[38;5;124msky.launch\u001b[39m\u001b[38;5;124m'\u001b[39m)\n\u001b[0;32m--> 498\u001b[0m \u001b[38;5;28;01mreturn\u001b[39;00m \u001b[43m_execute\u001b[49m\u001b[43m(\u001b[49m\n\u001b[1;32m    499\u001b[0m \u001b[43m    \u001b[49m\u001b[43mentrypoint\u001b[49m\u001b[38;5;241;43m=\u001b[39;49m\u001b[43mentrypoint\u001b[49m\u001b[43m,\u001b[49m\n\u001b[1;32m    500\u001b[0m \u001b[43m    \u001b[49m\u001b[43mdryrun\u001b[49m\u001b[38;5;241;43m=\u001b[39;49m\u001b[43mdryrun\u001b[49m\u001b[43m,\u001b[49m\n\u001b[1;32m    501\u001b[0m \u001b[43m    \u001b[49m\u001b[43mdown\u001b[49m\u001b[38;5;241;43m=\u001b[39;49m\u001b[43mdown\u001b[49m\u001b[43m,\u001b[49m\n\u001b[1;32m    502\u001b[0m \u001b[43m    \u001b[49m\u001b[43mstream_logs\u001b[49m\u001b[38;5;241;43m=\u001b[39;49m\u001b[43mstream_logs\u001b[49m\u001b[43m,\u001b[49m\n\u001b[1;32m    503\u001b[0m \u001b[43m    \u001b[49m\u001b[43mhandle\u001b[49m\u001b[38;5;241;43m=\u001b[39;49m\u001b[38;5;28;43;01mNone\u001b[39;49;00m\u001b[43m,\u001b[49m\n\u001b[1;32m    504\u001b[0m \u001b[43m    \u001b[49m\u001b[43mbackend\u001b[49m\u001b[38;5;241;43m=\u001b[39;49m\u001b[43mbackend\u001b[49m\u001b[43m,\u001b[49m\n\u001b[1;32m    505\u001b[0m \u001b[43m    \u001b[49m\u001b[43mretry_until_up\u001b[49m\u001b[38;5;241;43m=\u001b[39;49m\u001b[43mretry_until_up\u001b[49m\u001b[43m,\u001b[49m\n\u001b[1;32m    506\u001b[0m \u001b[43m    \u001b[49m\u001b[43moptimize_target\u001b[49m\u001b[38;5;241;43m=\u001b[39;49m\u001b[43moptimize_target\u001b[49m\u001b[43m,\u001b[49m\n\u001b[1;32m    507\u001b[0m \u001b[43m    \u001b[49m\u001b[43mcluster_name\u001b[49m\u001b[38;5;241;43m=\u001b[39;49m\u001b[43mcluster_name\u001b[49m\u001b[43m,\u001b[49m\n\u001b[1;32m    508\u001b[0m \u001b[43m    \u001b[49m\u001b[43mdetach_setup\u001b[49m\u001b[38;5;241;43m=\u001b[39;49m\u001b[43mdetach_setup\u001b[49m\u001b[43m,\u001b[49m\n\u001b[1;32m    509\u001b[0m \u001b[43m    \u001b[49m\u001b[43mdetach_run\u001b[49m\u001b[38;5;241;43m=\u001b[39;49m\u001b[43mdetach_run\u001b[49m\u001b[43m,\u001b[49m\n\u001b[1;32m    510\u001b[0m \u001b[43m    \u001b[49m\u001b[43midle_minutes_to_autostop\u001b[49m\u001b[38;5;241;43m=\u001b[39;49m\u001b[43midle_minutes_to_autostop\u001b[49m\u001b[43m,\u001b[49m\n\u001b[1;32m    511\u001b[0m \u001b[43m    \u001b[49m\u001b[43mno_setup\u001b[49m\u001b[38;5;241;43m=\u001b[39;49m\u001b[43mno_setup\u001b[49m\u001b[43m,\u001b[49m\n\u001b[1;32m    512\u001b[0m \u001b[43m    \u001b[49m\u001b[43mclone_disk_from\u001b[49m\u001b[38;5;241;43m=\u001b[39;49m\u001b[43mclone_disk_from\u001b[49m\u001b[43m,\u001b[49m\n\u001b[1;32m    513\u001b[0m \u001b[43m    \u001b[49m\u001b[43m_is_launched_by_spot_controller\u001b[49m\u001b[38;5;241;43m=\u001b[39;49m\u001b[43m_is_launched_by_spot_controller\u001b[49m\u001b[43m,\u001b[49m\n\u001b[1;32m    514\u001b[0m \u001b[43m    \u001b[49m\u001b[43m_is_launched_by_sky_serve_controller\u001b[49m\u001b[38;5;241;43m=\u001b[39;49m\n\u001b[1;32m    515\u001b[0m \u001b[43m    \u001b[49m\u001b[43m_is_launched_by_sky_serve_controller\u001b[49m\u001b[43m,\u001b[49m\n\u001b[1;32m    516\u001b[0m \u001b[43m\u001b[49m\u001b[43m)\u001b[49m\n",
      "File \u001b[0;32m~/miniforge3/envs/rh_langchain_env/lib/python3.9/site-packages/sky/execution.py:298\u001b[0m, in \u001b[0;36m_execute\u001b[0;34m(entrypoint, dryrun, down, stream_logs, handle, backend, retry_until_up, optimize_target, stages, cluster_name, detach_setup, detach_run, idle_minutes_to_autostop, no_setup, clone_disk_from, _is_launched_by_spot_controller, _is_launched_by_sky_serve_controller)\u001b[0m\n\u001b[1;32m    290\u001b[0m \u001b[38;5;28;01mif\u001b[39;00m task\u001b[38;5;241m.\u001b[39mbest_resources \u001b[38;5;129;01mis\u001b[39;00m \u001b[38;5;28;01mNone\u001b[39;00m:\n\u001b[1;32m    291\u001b[0m     \u001b[38;5;66;03m# TODO: fix this for the situation where number of requested\u001b[39;00m\n\u001b[1;32m    292\u001b[0m     \u001b[38;5;66;03m# accelerators is not an integer.\u001b[39;00m\n\u001b[1;32m    293\u001b[0m     \u001b[38;5;28;01mif\u001b[39;00m \u001b[38;5;28misinstance\u001b[39m(backend, backends\u001b[38;5;241m.\u001b[39mCloudVmRayBackend):\n\u001b[1;32m    294\u001b[0m         \u001b[38;5;66;03m# TODO: adding this check because docker backend on a\u001b[39;00m\n\u001b[1;32m    295\u001b[0m         \u001b[38;5;66;03m# no-credential machine should not enter optimize(), which\u001b[39;00m\n\u001b[1;32m    296\u001b[0m         \u001b[38;5;66;03m# would directly error out ('No cloud is enabled...').  Fix\u001b[39;00m\n\u001b[1;32m    297\u001b[0m         \u001b[38;5;66;03m# by moving `sky check` checks out of optimize()?\u001b[39;00m\n\u001b[0;32m--> 298\u001b[0m         dag \u001b[38;5;241m=\u001b[39m \u001b[43msky\u001b[49m\u001b[38;5;241;43m.\u001b[39;49m\u001b[43moptimize\u001b[49m\u001b[43m(\u001b[49m\u001b[43mdag\u001b[49m\u001b[43m,\u001b[49m\u001b[43m \u001b[49m\u001b[43mminimize\u001b[49m\u001b[38;5;241;43m=\u001b[39;49m\u001b[43moptimize_target\u001b[49m\u001b[43m)\u001b[49m\n\u001b[1;32m    299\u001b[0m         task \u001b[38;5;241m=\u001b[39m dag\u001b[38;5;241m.\u001b[39mtasks[\u001b[38;5;241m0\u001b[39m]  \u001b[38;5;66;03m# Keep: dag may have been deep-copied.\u001b[39;00m\n\u001b[1;32m    300\u001b[0m         \u001b[38;5;28;01massert\u001b[39;00m task\u001b[38;5;241m.\u001b[39mbest_resources \u001b[38;5;129;01mis\u001b[39;00m \u001b[38;5;129;01mnot\u001b[39;00m \u001b[38;5;28;01mNone\u001b[39;00m, task\n",
      "File \u001b[0;32m~/miniforge3/envs/rh_langchain_env/lib/python3.9/site-packages/sky/optimizer.py:126\u001b[0m, in \u001b[0;36mOptimizer.optimize\u001b[0;34m(dag, minimize, blocked_resources, quiet)\u001b[0m\n\u001b[1;32m    124\u001b[0m Optimizer\u001b[38;5;241m.\u001b[39m_add_dummy_source_sink_nodes(dag)\n\u001b[1;32m    125\u001b[0m \u001b[38;5;28;01mtry\u001b[39;00m:\n\u001b[0;32m--> 126\u001b[0m     unused_best_plan \u001b[38;5;241m=\u001b[39m \u001b[43mOptimizer\u001b[49m\u001b[38;5;241;43m.\u001b[39;49m\u001b[43m_optimize_dag\u001b[49m\u001b[43m(\u001b[49m\n\u001b[1;32m    127\u001b[0m \u001b[43m        \u001b[49m\u001b[43mdag\u001b[49m\u001b[38;5;241;43m=\u001b[39;49m\u001b[43mdag\u001b[49m\u001b[43m,\u001b[49m\n\u001b[1;32m    128\u001b[0m \u001b[43m        \u001b[49m\u001b[43mminimize_cost\u001b[49m\u001b[38;5;241;43m=\u001b[39;49m\u001b[43mminimize\u001b[49m\u001b[43m \u001b[49m\u001b[38;5;241;43m==\u001b[39;49m\u001b[43m \u001b[49m\u001b[43mOptimizeTarget\u001b[49m\u001b[38;5;241;43m.\u001b[39;49m\u001b[43mCOST\u001b[49m\u001b[43m,\u001b[49m\n\u001b[1;32m    129\u001b[0m \u001b[43m        \u001b[49m\u001b[43mblocked_resources\u001b[49m\u001b[38;5;241;43m=\u001b[39;49m\u001b[43mblocked_resources\u001b[49m\u001b[43m,\u001b[49m\n\u001b[1;32m    130\u001b[0m \u001b[43m        \u001b[49m\u001b[43mquiet\u001b[49m\u001b[38;5;241;43m=\u001b[39;49m\u001b[43mquiet\u001b[49m\u001b[43m)\u001b[49m\n\u001b[1;32m    131\u001b[0m \u001b[38;5;28;01mfinally\u001b[39;00m:\n\u001b[1;32m    132\u001b[0m     \u001b[38;5;66;03m# Make sure to remove the dummy source/sink nodes, even if the\u001b[39;00m\n\u001b[1;32m    133\u001b[0m     \u001b[38;5;66;03m# optimization fails.\u001b[39;00m\n\u001b[1;32m    134\u001b[0m     Optimizer\u001b[38;5;241m.\u001b[39m_remove_dummy_source_sink_nodes(dag)\n",
      "File \u001b[0;32m~/miniforge3/envs/rh_langchain_env/lib/python3.9/site-packages/sky/optimizer.py:1007\u001b[0m, in \u001b[0;36mOptimizer._optimize_dag\u001b[0;34m(dag, minimize_cost, blocked_resources, quiet)\u001b[0m\n\u001b[1;32m   1004\u001b[0m local_graph \u001b[38;5;241m=\u001b[39m local_dag\u001b[38;5;241m.\u001b[39mget_graph()\n\u001b[1;32m   1005\u001b[0m local_topo_order \u001b[38;5;241m=\u001b[39m \u001b[38;5;28mlist\u001b[39m(nx\u001b[38;5;241m.\u001b[39mtopological_sort(local_graph))\n\u001b[1;32m   1006\u001b[0m local_node_to_cost_map, local_node_to_candidate_map \u001b[38;5;241m=\u001b[39m (\n\u001b[0;32m-> 1007\u001b[0m     \u001b[43mOptimizer\u001b[49m\u001b[38;5;241;43m.\u001b[39;49m\u001b[43m_estimate_nodes_cost_or_time\u001b[49m\u001b[43m(\u001b[49m\u001b[43mlocal_topo_order\u001b[49m\u001b[43m,\u001b[49m\n\u001b[1;32m   1008\u001b[0m \u001b[43m                                           \u001b[49m\u001b[43mminimize_cost\u001b[49m\u001b[43m,\u001b[49m\n\u001b[1;32m   1009\u001b[0m \u001b[43m                                           \u001b[49m\u001b[43mblocked_resources\u001b[49m\u001b[43m)\u001b[49m)\n\u001b[1;32m   1010\u001b[0m \u001b[38;5;28;01mif\u001b[39;00m local_dag\u001b[38;5;241m.\u001b[39mis_chain():\n\u001b[1;32m   1011\u001b[0m     local_best_plan, best_total_objective \u001b[38;5;241m=\u001b[39m Optimizer\u001b[38;5;241m.\u001b[39m_optimize_by_dp(\n\u001b[1;32m   1012\u001b[0m         local_topo_order, local_node_to_cost_map, minimize_cost)\n",
      "File \u001b[0;32m~/miniforge3/envs/rh_langchain_env/lib/python3.9/site-packages/sky/optimizer.py:369\u001b[0m, in \u001b[0;36mOptimizer._estimate_nodes_cost_or_time\u001b[0;34m(topo_order, minimize_cost, blocked_resources, quiet)\u001b[0m\n\u001b[1;32m    359\u001b[0m         error_msg \u001b[38;5;241m=\u001b[39m (\n\u001b[1;32m    360\u001b[0m             \u001b[38;5;124mf\u001b[39m\u001b[38;5;124m'\u001b[39m\u001b[38;5;132;01m{\u001b[39;00msource_hint\u001b[38;5;241m.\u001b[39mcapitalize()\u001b[38;5;132;01m}\u001b[39;00m\u001b[38;5;124m does not contain any \u001b[39m\u001b[38;5;124m'\u001b[39m\n\u001b[1;32m    361\u001b[0m             \u001b[38;5;124mf\u001b[39m\u001b[38;5;124m'\u001b[39m\u001b[38;5;124minstances satisfying the request:\u001b[39m\u001b[38;5;130;01m\\n\u001b[39;00m\u001b[38;5;132;01m{\u001b[39;00mnode\u001b[38;5;132;01m}\u001b[39;00m\u001b[38;5;124m.\u001b[39m\u001b[38;5;124m'\u001b[39m\n\u001b[0;32m   (...)\u001b[0m\n\u001b[1;32m    366\u001b[0m             \u001b[38;5;124mf\u001b[39m\u001b[38;5;124m'\u001b[39m\u001b[38;5;124m      \u001b[39m\u001b[38;5;132;01m{\u001b[39;00mbold\u001b[38;5;132;01m}\u001b[39;00m\u001b[38;5;124msky check\u001b[39m\u001b[38;5;132;01m{\u001b[39;00mreset\u001b[38;5;132;01m}\u001b[39;00m\u001b[38;5;124m to check the enabled \u001b[39m\u001b[38;5;124m'\u001b[39m\n\u001b[1;32m    367\u001b[0m             \u001b[38;5;124m'\u001b[39m\u001b[38;5;124mclouds.\u001b[39m\u001b[38;5;124m'\u001b[39m)\n\u001b[1;32m    368\u001b[0m         \u001b[38;5;28;01mwith\u001b[39;00m ux_utils\u001b[38;5;241m.\u001b[39mprint_exception_no_traceback():\n\u001b[0;32m--> 369\u001b[0m             \u001b[38;5;28;01mraise\u001b[39;00m exceptions\u001b[38;5;241m.\u001b[39mResourcesUnavailableError(error_msg)\n\u001b[1;32m    370\u001b[0m \u001b[38;5;28;01mreturn\u001b[39;00m node_to_cost_map, node_to_candidate_map\n",
      "\u001b[0;31mResourcesUnavailableError\u001b[0m: Catalog does not contain any instances satisfying the request:\nTask(run=<empty>)\n  resources: <Cloud>({'A100': 1}).\n\nTo fix: relax or change the resource requirements.\nTry one of these offered accelerators: \u001b[36m['A100-80GB:8', 'A100:8']\u001b[0m\n\nHint: \u001b[1msky show-gpus\u001b[0m to list available accelerators.\n      \u001b[1msky check\u001b[0m to check the enabled clouds."
     ]
    }
   ],
   "source": [
    "gpu.up()"
   ]
  },
  {
   "cell_type": "code",
   "execution_count": 17,
   "id": "035dea0f",
   "metadata": {
    "tags": []
   },
   "outputs": [],
   "source": [
    "template = \"\"\"Question: {question}\n",
    "\n",
    "Answer: Let's think step by step.\"\"\"\n",
    "\n",
    "prompt = PromptTemplate.from_template(template)"
   ]
  },
  {
   "cell_type": "code",
   "execution_count": 18,
   "id": "c9b7dcb5-7a74-4513-9ad6-aee1b4193b47",
   "metadata": {},
   "outputs": [],
   "source": [
    "model_env = rh.env(\n",
    "    reqs=[\"transformers\", \"torch\", \"langchain\"],\n",
    "    secrets=[\"huggingface\"]  # need to download  google/gemma-2b-it\n",
    ")"
   ]
  },
  {
   "cell_type": "code",
   "execution_count": 19,
   "id": "07884665-9684-4342-8eb1-4a9c517755b9",
   "metadata": {},
   "outputs": [
    {
     "name": "stdout",
     "output_type": "stream",
     "text": [
      "I 03-11 16:08:02 optimizer.py:1206] No resource satisfying <Cloud>({'A100': 1}) on AWS.\n",
      "I 03-11 16:08:02 optimizer.py:1210] Did you mean: \u001b[36m['A100-80GB:8', 'A100:8']\u001b[0m\n"
     ]
    },
    {
     "ename": "ResourcesUnavailableError",
     "evalue": "Catalog does not contain any instances satisfying the request:\nTask(run=<empty>)\n  resources: <Cloud>({'A100': 1}).\n\nTo fix: relax or change the resource requirements.\nTry one of these offered accelerators: \u001b[36m['A100-80GB:8', 'A100:8']\u001b[0m\n\nHint: \u001b[1msky show-gpus\u001b[0m to list available accelerators.\n      \u001b[1msky check\u001b[0m to check the enabled clouds.",
     "output_type": "error",
     "traceback": [
      "\u001b[0;31m---------------------------------------------------------------------------\u001b[0m",
      "\u001b[0;31mResourcesUnavailableError\u001b[0m                 Traceback (most recent call last)",
      "Cell \u001b[0;32mIn[19], line 1\u001b[0m\n\u001b[0;32m----> 1\u001b[0m load_transformer_remote \u001b[38;5;241m=\u001b[39m \u001b[43mrh\u001b[49m\u001b[38;5;241;43m.\u001b[39;49m\u001b[43mfunction\u001b[49m\u001b[43m(\u001b[49m\u001b[43mfn\u001b[49m\u001b[38;5;241;43m=\u001b[39;49m\u001b[43m_load_transformer\u001b[49m\u001b[43m)\u001b[49m\u001b[38;5;241;43m.\u001b[39;49m\u001b[43mto\u001b[49m\u001b[43m(\u001b[49m\u001b[43msystem\u001b[49m\u001b[38;5;241;43m=\u001b[39;49m\u001b[43mgpu\u001b[49m\u001b[43m,\u001b[49m\u001b[43m \u001b[49m\u001b[43menv\u001b[49m\u001b[38;5;241;43m=\u001b[39;49m\u001b[43mmodel_env\u001b[49m\u001b[43m)\u001b[49m\n",
      "File \u001b[0;32m~/miniforge3/envs/rh_langchain_env/lib/python3.9/site-packages/runhouse/resources/functions/function.py:90\u001b[0m, in \u001b[0;36mFunction.to\u001b[0;34m(self, system, env, name, force_install)\u001b[0m\n\u001b[1;32m     84\u001b[0m     \u001b[38;5;28;01mfrom\u001b[39;00m \u001b[38;5;21;01mrunhouse\u001b[39;00m\u001b[38;5;21;01m.\u001b[39;00m\u001b[38;5;21;01mresources\u001b[39;00m\u001b[38;5;21;01m.\u001b[39;00m\u001b[38;5;21;01mfunctions\u001b[39;00m\u001b[38;5;21;01m.\u001b[39;00m\u001b[38;5;21;01maws_lambda_factory\u001b[39;00m \u001b[38;5;28;01mimport\u001b[39;00m aws_lambda_fn\n\u001b[1;32m     86\u001b[0m     \u001b[38;5;28;01mreturn\u001b[39;00m aws_lambda_fn(\n\u001b[1;32m     87\u001b[0m         fn\u001b[38;5;241m=\u001b[39m\u001b[38;5;28mself\u001b[39m\u001b[38;5;241m.\u001b[39m_get_obj_from_pointers(\u001b[38;5;241m*\u001b[39m\u001b[38;5;28mself\u001b[39m\u001b[38;5;241m.\u001b[39mfn_pointers), env\u001b[38;5;241m=\u001b[39menv\n\u001b[1;32m     88\u001b[0m     )\n\u001b[0;32m---> 90\u001b[0m \u001b[38;5;28;01mreturn\u001b[39;00m \u001b[38;5;28;43msuper\u001b[39;49m\u001b[43m(\u001b[49m\u001b[43m)\u001b[49m\u001b[38;5;241;43m.\u001b[39;49m\u001b[43mto\u001b[49m\u001b[43m(\u001b[49m\n\u001b[1;32m     91\u001b[0m \u001b[43m    \u001b[49m\u001b[43msystem\u001b[49m\u001b[38;5;241;43m=\u001b[39;49m\u001b[43msystem\u001b[49m\u001b[43m,\u001b[49m\u001b[43m \u001b[49m\u001b[43menv\u001b[49m\u001b[38;5;241;43m=\u001b[39;49m\u001b[43menv\u001b[49m\u001b[43m,\u001b[49m\u001b[43m \u001b[49m\u001b[43mname\u001b[49m\u001b[38;5;241;43m=\u001b[39;49m\u001b[43mname\u001b[49m\u001b[43m,\u001b[49m\u001b[43m \u001b[49m\u001b[43mforce_install\u001b[49m\u001b[38;5;241;43m=\u001b[39;49m\u001b[43mforce_install\u001b[49m\n\u001b[1;32m     92\u001b[0m \u001b[43m\u001b[49m\u001b[43m)\u001b[49m\n",
      "File \u001b[0;32m~/miniforge3/envs/rh_langchain_env/lib/python3.9/site-packages/runhouse/resources/module.py:381\u001b[0m, in \u001b[0;36mModule.to\u001b[0;34m(self, system, env, name, force_install)\u001b[0m\n\u001b[1;32m    378\u001b[0m env \u001b[38;5;241m=\u001b[39m _get_env_from(env)\n\u001b[1;32m    380\u001b[0m \u001b[38;5;28;01mif\u001b[39;00m system:\n\u001b[0;32m--> 381\u001b[0m     \u001b[43msystem\u001b[49m\u001b[38;5;241;43m.\u001b[39;49m\u001b[43mcheck_server\u001b[49m\u001b[43m(\u001b[49m\u001b[43m)\u001b[49m\n\u001b[1;32m    382\u001b[0m     \u001b[38;5;28;01mif\u001b[39;00m env:\n\u001b[1;32m    383\u001b[0m         env \u001b[38;5;241m=\u001b[39m env\u001b[38;5;241m.\u001b[39mto(system, force_install\u001b[38;5;241m=\u001b[39mforce_install)\n",
      "File \u001b[0;32m~/miniforge3/envs/rh_langchain_env/lib/python3.9/site-packages/runhouse/resources/hardware/cluster.py:570\u001b[0m, in \u001b[0;36mCluster.check_server\u001b[0;34m(self, restart_server)\u001b[0m\n\u001b[1;32m    564\u001b[0m         \u001b[38;5;28;01mraise\u001b[39;00m \u001b[38;5;167;01mValueError\u001b[39;00m(\n\u001b[1;32m    565\u001b[0m             \u001b[38;5;124m\"\u001b[39m\u001b[38;5;124mCluster must have a host address (i.e. be up) or have a reup_cluster method \u001b[39m\u001b[38;5;124m\"\u001b[39m\n\u001b[1;32m    566\u001b[0m             \u001b[38;5;124m\"\u001b[39m\u001b[38;5;124m(e.g. OnDemandCluster).\u001b[39m\u001b[38;5;124m\"\u001b[39m\n\u001b[1;32m    567\u001b[0m         )\n\u001b[1;32m    568\u001b[0m     \u001b[38;5;66;03m# If this is a OnDemandCluster, before we up the cluster, run a sky.status to see if the cluster\u001b[39;00m\n\u001b[1;32m    569\u001b[0m     \u001b[38;5;66;03m# is already up but doesn't have an address assigned yet.\u001b[39;00m\n\u001b[0;32m--> 570\u001b[0m     \u001b[38;5;28;43mself\u001b[39;49m\u001b[38;5;241;43m.\u001b[39;49m\u001b[43mup_if_not\u001b[49m\u001b[43m(\u001b[49m\u001b[43m)\u001b[49m\n\u001b[1;32m    572\u001b[0m \u001b[38;5;28;01mif\u001b[39;00m \u001b[38;5;129;01mnot\u001b[39;00m \u001b[38;5;28mself\u001b[39m\u001b[38;5;241m.\u001b[39mclient:\n\u001b[1;32m    573\u001b[0m     \u001b[38;5;28;01mtry\u001b[39;00m:\n",
      "File \u001b[0;32m~/miniforge3/envs/rh_langchain_env/lib/python3.9/site-packages/runhouse/resources/hardware/cluster.py:303\u001b[0m, in \u001b[0;36mCluster.up_if_not\u001b[0;34m(self)\u001b[0m\n\u001b[1;32m    299\u001b[0m     \u001b[38;5;28;01mif\u001b[39;00m \u001b[38;5;129;01mnot\u001b[39;00m \u001b[38;5;28mhasattr\u001b[39m(\u001b[38;5;28mself\u001b[39m, \u001b[38;5;124m\"\u001b[39m\u001b[38;5;124mup\u001b[39m\u001b[38;5;124m\"\u001b[39m):\n\u001b[1;32m    300\u001b[0m         \u001b[38;5;28;01mraise\u001b[39;00m \u001b[38;5;167;01mNotImplementedError\u001b[39;00m(\n\u001b[1;32m    301\u001b[0m             \u001b[38;5;124mf\u001b[39m\u001b[38;5;124m\"\u001b[39m\u001b[38;5;124mCluster <\u001b[39m\u001b[38;5;132;01m{\u001b[39;00m\u001b[38;5;28mself\u001b[39m\u001b[38;5;241m.\u001b[39mname\u001b[38;5;132;01m}\u001b[39;00m\u001b[38;5;124m> does not have an up method.\u001b[39m\u001b[38;5;124m\"\u001b[39m\n\u001b[1;32m    302\u001b[0m         )\n\u001b[0;32m--> 303\u001b[0m     \u001b[38;5;28;43mself\u001b[39;49m\u001b[38;5;241;43m.\u001b[39;49m\u001b[43mup\u001b[49m\u001b[43m(\u001b[49m\u001b[43m)\u001b[49m\n\u001b[1;32m    304\u001b[0m \u001b[38;5;28;01mreturn\u001b[39;00m \u001b[38;5;28mself\u001b[39m\n",
      "File \u001b[0;32m~/miniforge3/envs/rh_langchain_env/lib/python3.9/site-packages/runhouse/resources/hardware/on_demand_cluster.py:404\u001b[0m, in \u001b[0;36mOnDemandCluster.up\u001b[0;34m(self)\u001b[0m\n\u001b[1;32m    398\u001b[0m     \u001b[38;5;28;01mif\u001b[39;00m Path(\u001b[38;5;124m\"\u001b[39m\u001b[38;5;124m~/.rh\u001b[39m\u001b[38;5;124m\"\u001b[39m)\u001b[38;5;241m.\u001b[39mexpanduser()\u001b[38;5;241m.\u001b[39mexists():\n\u001b[1;32m    399\u001b[0m         task\u001b[38;5;241m.\u001b[39mset_file_mounts(\n\u001b[1;32m    400\u001b[0m             {\n\u001b[1;32m    401\u001b[0m                 \u001b[38;5;124m\"\u001b[39m\u001b[38;5;124m~/.rh\u001b[39m\u001b[38;5;124m\"\u001b[39m: \u001b[38;5;124m\"\u001b[39m\u001b[38;5;124m~/.rh\u001b[39m\u001b[38;5;124m\"\u001b[39m,\n\u001b[1;32m    402\u001b[0m             }\n\u001b[1;32m    403\u001b[0m         )\n\u001b[0;32m--> 404\u001b[0m     \u001b[43msky\u001b[49m\u001b[38;5;241;43m.\u001b[39;49m\u001b[43mlaunch\u001b[49m\u001b[43m(\u001b[49m\n\u001b[1;32m    405\u001b[0m \u001b[43m        \u001b[49m\u001b[43mtask\u001b[49m\u001b[43m,\u001b[49m\n\u001b[1;32m    406\u001b[0m \u001b[43m        \u001b[49m\u001b[43mcluster_name\u001b[49m\u001b[38;5;241;43m=\u001b[39;49m\u001b[38;5;28;43mself\u001b[39;49m\u001b[38;5;241;43m.\u001b[39;49m\u001b[43mname\u001b[49m\u001b[43m,\u001b[49m\n\u001b[1;32m    407\u001b[0m \u001b[43m        \u001b[49m\u001b[43midle_minutes_to_autostop\u001b[49m\u001b[38;5;241;43m=\u001b[39;49m\u001b[38;5;28;43mself\u001b[39;49m\u001b[38;5;241;43m.\u001b[39;49m\u001b[43mautostop_mins\u001b[49m\u001b[43m,\u001b[49m\n\u001b[1;32m    408\u001b[0m \u001b[43m        \u001b[49m\u001b[43mdown\u001b[49m\u001b[38;5;241;43m=\u001b[39;49m\u001b[38;5;28;43;01mTrue\u001b[39;49;00m\u001b[43m,\u001b[49m\n\u001b[1;32m    409\u001b[0m \u001b[43m    \u001b[49m\u001b[43m)\u001b[49m\n\u001b[1;32m    410\u001b[0m \u001b[38;5;28;01melse\u001b[39;00m:\n\u001b[1;32m    411\u001b[0m     \u001b[38;5;28;01mraise\u001b[39;00m \u001b[38;5;167;01mValueError\u001b[39;00m(\u001b[38;5;124mf\u001b[39m\u001b[38;5;124m\"\u001b[39m\u001b[38;5;124mCluster provider \u001b[39m\u001b[38;5;132;01m{\u001b[39;00m\u001b[38;5;28mself\u001b[39m\u001b[38;5;241m.\u001b[39mprovider\u001b[38;5;132;01m}\u001b[39;00m\u001b[38;5;124m not supported.\u001b[39m\u001b[38;5;124m\"\u001b[39m)\n",
      "File \u001b[0;32m~/miniforge3/envs/rh_langchain_env/lib/python3.9/site-packages/sky/utils/common_utils.py:371\u001b[0m, in \u001b[0;36mmake_decorator.<locals>._record\u001b[0;34m(*args, **kwargs)\u001b[0m\n\u001b[1;32m    369\u001b[0m     full_name \u001b[38;5;241m=\u001b[39m func_name\n\u001b[1;32m    370\u001b[0m \u001b[38;5;28;01mwith\u001b[39;00m \u001b[38;5;28mcls\u001b[39m(full_name, \u001b[38;5;241m*\u001b[39m\u001b[38;5;241m*\u001b[39mctx_kwargs):\n\u001b[0;32m--> 371\u001b[0m     \u001b[38;5;28;01mreturn\u001b[39;00m \u001b[43mf\u001b[49m\u001b[43m(\u001b[49m\u001b[38;5;241;43m*\u001b[39;49m\u001b[43margs\u001b[49m\u001b[43m,\u001b[49m\u001b[43m \u001b[49m\u001b[38;5;241;43m*\u001b[39;49m\u001b[38;5;241;43m*\u001b[39;49m\u001b[43mkwargs\u001b[49m\u001b[43m)\u001b[49m\n",
      "File \u001b[0;32m~/miniforge3/envs/rh_langchain_env/lib/python3.9/site-packages/sky/utils/common_utils.py:371\u001b[0m, in \u001b[0;36mmake_decorator.<locals>._record\u001b[0;34m(*args, **kwargs)\u001b[0m\n\u001b[1;32m    369\u001b[0m     full_name \u001b[38;5;241m=\u001b[39m func_name\n\u001b[1;32m    370\u001b[0m \u001b[38;5;28;01mwith\u001b[39;00m \u001b[38;5;28mcls\u001b[39m(full_name, \u001b[38;5;241m*\u001b[39m\u001b[38;5;241m*\u001b[39mctx_kwargs):\n\u001b[0;32m--> 371\u001b[0m     \u001b[38;5;28;01mreturn\u001b[39;00m \u001b[43mf\u001b[49m\u001b[43m(\u001b[49m\u001b[38;5;241;43m*\u001b[39;49m\u001b[43margs\u001b[49m\u001b[43m,\u001b[49m\u001b[43m \u001b[49m\u001b[38;5;241;43m*\u001b[39;49m\u001b[38;5;241;43m*\u001b[39;49m\u001b[43mkwargs\u001b[49m\u001b[43m)\u001b[49m\n",
      "File \u001b[0;32m~/miniforge3/envs/rh_langchain_env/lib/python3.9/site-packages/sky/execution.py:498\u001b[0m, in \u001b[0;36mlaunch\u001b[0;34m(task, cluster_name, retry_until_up, idle_minutes_to_autostop, dryrun, down, stream_logs, backend, optimize_target, detach_setup, detach_run, no_setup, clone_disk_from, _is_launched_by_spot_controller, _is_launched_by_sky_serve_controller, _disable_controller_check)\u001b[0m\n\u001b[1;32m    494\u001b[0m \u001b[38;5;28;01mif\u001b[39;00m \u001b[38;5;129;01mnot\u001b[39;00m _disable_controller_check:\n\u001b[1;32m    495\u001b[0m     controller_utils\u001b[38;5;241m.\u001b[39mcheck_cluster_name_not_controller(\n\u001b[1;32m    496\u001b[0m         cluster_name, operation_str\u001b[38;5;241m=\u001b[39m\u001b[38;5;124m'\u001b[39m\u001b[38;5;124msky.launch\u001b[39m\u001b[38;5;124m'\u001b[39m)\n\u001b[0;32m--> 498\u001b[0m \u001b[38;5;28;01mreturn\u001b[39;00m \u001b[43m_execute\u001b[49m\u001b[43m(\u001b[49m\n\u001b[1;32m    499\u001b[0m \u001b[43m    \u001b[49m\u001b[43mentrypoint\u001b[49m\u001b[38;5;241;43m=\u001b[39;49m\u001b[43mentrypoint\u001b[49m\u001b[43m,\u001b[49m\n\u001b[1;32m    500\u001b[0m \u001b[43m    \u001b[49m\u001b[43mdryrun\u001b[49m\u001b[38;5;241;43m=\u001b[39;49m\u001b[43mdryrun\u001b[49m\u001b[43m,\u001b[49m\n\u001b[1;32m    501\u001b[0m \u001b[43m    \u001b[49m\u001b[43mdown\u001b[49m\u001b[38;5;241;43m=\u001b[39;49m\u001b[43mdown\u001b[49m\u001b[43m,\u001b[49m\n\u001b[1;32m    502\u001b[0m \u001b[43m    \u001b[49m\u001b[43mstream_logs\u001b[49m\u001b[38;5;241;43m=\u001b[39;49m\u001b[43mstream_logs\u001b[49m\u001b[43m,\u001b[49m\n\u001b[1;32m    503\u001b[0m \u001b[43m    \u001b[49m\u001b[43mhandle\u001b[49m\u001b[38;5;241;43m=\u001b[39;49m\u001b[38;5;28;43;01mNone\u001b[39;49;00m\u001b[43m,\u001b[49m\n\u001b[1;32m    504\u001b[0m \u001b[43m    \u001b[49m\u001b[43mbackend\u001b[49m\u001b[38;5;241;43m=\u001b[39;49m\u001b[43mbackend\u001b[49m\u001b[43m,\u001b[49m\n\u001b[1;32m    505\u001b[0m \u001b[43m    \u001b[49m\u001b[43mretry_until_up\u001b[49m\u001b[38;5;241;43m=\u001b[39;49m\u001b[43mretry_until_up\u001b[49m\u001b[43m,\u001b[49m\n\u001b[1;32m    506\u001b[0m \u001b[43m    \u001b[49m\u001b[43moptimize_target\u001b[49m\u001b[38;5;241;43m=\u001b[39;49m\u001b[43moptimize_target\u001b[49m\u001b[43m,\u001b[49m\n\u001b[1;32m    507\u001b[0m \u001b[43m    \u001b[49m\u001b[43mcluster_name\u001b[49m\u001b[38;5;241;43m=\u001b[39;49m\u001b[43mcluster_name\u001b[49m\u001b[43m,\u001b[49m\n\u001b[1;32m    508\u001b[0m \u001b[43m    \u001b[49m\u001b[43mdetach_setup\u001b[49m\u001b[38;5;241;43m=\u001b[39;49m\u001b[43mdetach_setup\u001b[49m\u001b[43m,\u001b[49m\n\u001b[1;32m    509\u001b[0m \u001b[43m    \u001b[49m\u001b[43mdetach_run\u001b[49m\u001b[38;5;241;43m=\u001b[39;49m\u001b[43mdetach_run\u001b[49m\u001b[43m,\u001b[49m\n\u001b[1;32m    510\u001b[0m \u001b[43m    \u001b[49m\u001b[43midle_minutes_to_autostop\u001b[49m\u001b[38;5;241;43m=\u001b[39;49m\u001b[43midle_minutes_to_autostop\u001b[49m\u001b[43m,\u001b[49m\n\u001b[1;32m    511\u001b[0m \u001b[43m    \u001b[49m\u001b[43mno_setup\u001b[49m\u001b[38;5;241;43m=\u001b[39;49m\u001b[43mno_setup\u001b[49m\u001b[43m,\u001b[49m\n\u001b[1;32m    512\u001b[0m \u001b[43m    \u001b[49m\u001b[43mclone_disk_from\u001b[49m\u001b[38;5;241;43m=\u001b[39;49m\u001b[43mclone_disk_from\u001b[49m\u001b[43m,\u001b[49m\n\u001b[1;32m    513\u001b[0m \u001b[43m    \u001b[49m\u001b[43m_is_launched_by_spot_controller\u001b[49m\u001b[38;5;241;43m=\u001b[39;49m\u001b[43m_is_launched_by_spot_controller\u001b[49m\u001b[43m,\u001b[49m\n\u001b[1;32m    514\u001b[0m \u001b[43m    \u001b[49m\u001b[43m_is_launched_by_sky_serve_controller\u001b[49m\u001b[38;5;241;43m=\u001b[39;49m\n\u001b[1;32m    515\u001b[0m \u001b[43m    \u001b[49m\u001b[43m_is_launched_by_sky_serve_controller\u001b[49m\u001b[43m,\u001b[49m\n\u001b[1;32m    516\u001b[0m \u001b[43m\u001b[49m\u001b[43m)\u001b[49m\n",
      "File \u001b[0;32m~/miniforge3/envs/rh_langchain_env/lib/python3.9/site-packages/sky/execution.py:298\u001b[0m, in \u001b[0;36m_execute\u001b[0;34m(entrypoint, dryrun, down, stream_logs, handle, backend, retry_until_up, optimize_target, stages, cluster_name, detach_setup, detach_run, idle_minutes_to_autostop, no_setup, clone_disk_from, _is_launched_by_spot_controller, _is_launched_by_sky_serve_controller)\u001b[0m\n\u001b[1;32m    290\u001b[0m \u001b[38;5;28;01mif\u001b[39;00m task\u001b[38;5;241m.\u001b[39mbest_resources \u001b[38;5;129;01mis\u001b[39;00m \u001b[38;5;28;01mNone\u001b[39;00m:\n\u001b[1;32m    291\u001b[0m     \u001b[38;5;66;03m# TODO: fix this for the situation where number of requested\u001b[39;00m\n\u001b[1;32m    292\u001b[0m     \u001b[38;5;66;03m# accelerators is not an integer.\u001b[39;00m\n\u001b[1;32m    293\u001b[0m     \u001b[38;5;28;01mif\u001b[39;00m \u001b[38;5;28misinstance\u001b[39m(backend, backends\u001b[38;5;241m.\u001b[39mCloudVmRayBackend):\n\u001b[1;32m    294\u001b[0m         \u001b[38;5;66;03m# TODO: adding this check because docker backend on a\u001b[39;00m\n\u001b[1;32m    295\u001b[0m         \u001b[38;5;66;03m# no-credential machine should not enter optimize(), which\u001b[39;00m\n\u001b[1;32m    296\u001b[0m         \u001b[38;5;66;03m# would directly error out ('No cloud is enabled...').  Fix\u001b[39;00m\n\u001b[1;32m    297\u001b[0m         \u001b[38;5;66;03m# by moving `sky check` checks out of optimize()?\u001b[39;00m\n\u001b[0;32m--> 298\u001b[0m         dag \u001b[38;5;241m=\u001b[39m \u001b[43msky\u001b[49m\u001b[38;5;241;43m.\u001b[39;49m\u001b[43moptimize\u001b[49m\u001b[43m(\u001b[49m\u001b[43mdag\u001b[49m\u001b[43m,\u001b[49m\u001b[43m \u001b[49m\u001b[43mminimize\u001b[49m\u001b[38;5;241;43m=\u001b[39;49m\u001b[43moptimize_target\u001b[49m\u001b[43m)\u001b[49m\n\u001b[1;32m    299\u001b[0m         task \u001b[38;5;241m=\u001b[39m dag\u001b[38;5;241m.\u001b[39mtasks[\u001b[38;5;241m0\u001b[39m]  \u001b[38;5;66;03m# Keep: dag may have been deep-copied.\u001b[39;00m\n\u001b[1;32m    300\u001b[0m         \u001b[38;5;28;01massert\u001b[39;00m task\u001b[38;5;241m.\u001b[39mbest_resources \u001b[38;5;129;01mis\u001b[39;00m \u001b[38;5;129;01mnot\u001b[39;00m \u001b[38;5;28;01mNone\u001b[39;00m, task\n",
      "File \u001b[0;32m~/miniforge3/envs/rh_langchain_env/lib/python3.9/site-packages/sky/optimizer.py:126\u001b[0m, in \u001b[0;36mOptimizer.optimize\u001b[0;34m(dag, minimize, blocked_resources, quiet)\u001b[0m\n\u001b[1;32m    124\u001b[0m Optimizer\u001b[38;5;241m.\u001b[39m_add_dummy_source_sink_nodes(dag)\n\u001b[1;32m    125\u001b[0m \u001b[38;5;28;01mtry\u001b[39;00m:\n\u001b[0;32m--> 126\u001b[0m     unused_best_plan \u001b[38;5;241m=\u001b[39m \u001b[43mOptimizer\u001b[49m\u001b[38;5;241;43m.\u001b[39;49m\u001b[43m_optimize_dag\u001b[49m\u001b[43m(\u001b[49m\n\u001b[1;32m    127\u001b[0m \u001b[43m        \u001b[49m\u001b[43mdag\u001b[49m\u001b[38;5;241;43m=\u001b[39;49m\u001b[43mdag\u001b[49m\u001b[43m,\u001b[49m\n\u001b[1;32m    128\u001b[0m \u001b[43m        \u001b[49m\u001b[43mminimize_cost\u001b[49m\u001b[38;5;241;43m=\u001b[39;49m\u001b[43mminimize\u001b[49m\u001b[43m \u001b[49m\u001b[38;5;241;43m==\u001b[39;49m\u001b[43m \u001b[49m\u001b[43mOptimizeTarget\u001b[49m\u001b[38;5;241;43m.\u001b[39;49m\u001b[43mCOST\u001b[49m\u001b[43m,\u001b[49m\n\u001b[1;32m    129\u001b[0m \u001b[43m        \u001b[49m\u001b[43mblocked_resources\u001b[49m\u001b[38;5;241;43m=\u001b[39;49m\u001b[43mblocked_resources\u001b[49m\u001b[43m,\u001b[49m\n\u001b[1;32m    130\u001b[0m \u001b[43m        \u001b[49m\u001b[43mquiet\u001b[49m\u001b[38;5;241;43m=\u001b[39;49m\u001b[43mquiet\u001b[49m\u001b[43m)\u001b[49m\n\u001b[1;32m    131\u001b[0m \u001b[38;5;28;01mfinally\u001b[39;00m:\n\u001b[1;32m    132\u001b[0m     \u001b[38;5;66;03m# Make sure to remove the dummy source/sink nodes, even if the\u001b[39;00m\n\u001b[1;32m    133\u001b[0m     \u001b[38;5;66;03m# optimization fails.\u001b[39;00m\n\u001b[1;32m    134\u001b[0m     Optimizer\u001b[38;5;241m.\u001b[39m_remove_dummy_source_sink_nodes(dag)\n",
      "File \u001b[0;32m~/miniforge3/envs/rh_langchain_env/lib/python3.9/site-packages/sky/optimizer.py:1007\u001b[0m, in \u001b[0;36mOptimizer._optimize_dag\u001b[0;34m(dag, minimize_cost, blocked_resources, quiet)\u001b[0m\n\u001b[1;32m   1004\u001b[0m local_graph \u001b[38;5;241m=\u001b[39m local_dag\u001b[38;5;241m.\u001b[39mget_graph()\n\u001b[1;32m   1005\u001b[0m local_topo_order \u001b[38;5;241m=\u001b[39m \u001b[38;5;28mlist\u001b[39m(nx\u001b[38;5;241m.\u001b[39mtopological_sort(local_graph))\n\u001b[1;32m   1006\u001b[0m local_node_to_cost_map, local_node_to_candidate_map \u001b[38;5;241m=\u001b[39m (\n\u001b[0;32m-> 1007\u001b[0m     \u001b[43mOptimizer\u001b[49m\u001b[38;5;241;43m.\u001b[39;49m\u001b[43m_estimate_nodes_cost_or_time\u001b[49m\u001b[43m(\u001b[49m\u001b[43mlocal_topo_order\u001b[49m\u001b[43m,\u001b[49m\n\u001b[1;32m   1008\u001b[0m \u001b[43m                                           \u001b[49m\u001b[43mminimize_cost\u001b[49m\u001b[43m,\u001b[49m\n\u001b[1;32m   1009\u001b[0m \u001b[43m                                           \u001b[49m\u001b[43mblocked_resources\u001b[49m\u001b[43m)\u001b[49m)\n\u001b[1;32m   1010\u001b[0m \u001b[38;5;28;01mif\u001b[39;00m local_dag\u001b[38;5;241m.\u001b[39mis_chain():\n\u001b[1;32m   1011\u001b[0m     local_best_plan, best_total_objective \u001b[38;5;241m=\u001b[39m Optimizer\u001b[38;5;241m.\u001b[39m_optimize_by_dp(\n\u001b[1;32m   1012\u001b[0m         local_topo_order, local_node_to_cost_map, minimize_cost)\n",
      "File \u001b[0;32m~/miniforge3/envs/rh_langchain_env/lib/python3.9/site-packages/sky/optimizer.py:369\u001b[0m, in \u001b[0;36mOptimizer._estimate_nodes_cost_or_time\u001b[0;34m(topo_order, minimize_cost, blocked_resources, quiet)\u001b[0m\n\u001b[1;32m    359\u001b[0m         error_msg \u001b[38;5;241m=\u001b[39m (\n\u001b[1;32m    360\u001b[0m             \u001b[38;5;124mf\u001b[39m\u001b[38;5;124m'\u001b[39m\u001b[38;5;132;01m{\u001b[39;00msource_hint\u001b[38;5;241m.\u001b[39mcapitalize()\u001b[38;5;132;01m}\u001b[39;00m\u001b[38;5;124m does not contain any \u001b[39m\u001b[38;5;124m'\u001b[39m\n\u001b[1;32m    361\u001b[0m             \u001b[38;5;124mf\u001b[39m\u001b[38;5;124m'\u001b[39m\u001b[38;5;124minstances satisfying the request:\u001b[39m\u001b[38;5;130;01m\\n\u001b[39;00m\u001b[38;5;132;01m{\u001b[39;00mnode\u001b[38;5;132;01m}\u001b[39;00m\u001b[38;5;124m.\u001b[39m\u001b[38;5;124m'\u001b[39m\n\u001b[0;32m   (...)\u001b[0m\n\u001b[1;32m    366\u001b[0m             \u001b[38;5;124mf\u001b[39m\u001b[38;5;124m'\u001b[39m\u001b[38;5;124m      \u001b[39m\u001b[38;5;132;01m{\u001b[39;00mbold\u001b[38;5;132;01m}\u001b[39;00m\u001b[38;5;124msky check\u001b[39m\u001b[38;5;132;01m{\u001b[39;00mreset\u001b[38;5;132;01m}\u001b[39;00m\u001b[38;5;124m to check the enabled \u001b[39m\u001b[38;5;124m'\u001b[39m\n\u001b[1;32m    367\u001b[0m             \u001b[38;5;124m'\u001b[39m\u001b[38;5;124mclouds.\u001b[39m\u001b[38;5;124m'\u001b[39m)\n\u001b[1;32m    368\u001b[0m         \u001b[38;5;28;01mwith\u001b[39;00m ux_utils\u001b[38;5;241m.\u001b[39mprint_exception_no_traceback():\n\u001b[0;32m--> 369\u001b[0m             \u001b[38;5;28;01mraise\u001b[39;00m exceptions\u001b[38;5;241m.\u001b[39mResourcesUnavailableError(error_msg)\n\u001b[1;32m    370\u001b[0m \u001b[38;5;28;01mreturn\u001b[39;00m node_to_cost_map, node_to_candidate_map\n",
      "\u001b[0;31mResourcesUnavailableError\u001b[0m: Catalog does not contain any instances satisfying the request:\nTask(run=<empty>)\n  resources: <Cloud>({'A100': 1}).\n\nTo fix: relax or change the resource requirements.\nTry one of these offered accelerators: \u001b[36m['A100-80GB:8', 'A100:8']\u001b[0m\n\nHint: \u001b[1msky show-gpus\u001b[0m to list available accelerators.\n      \u001b[1msky check\u001b[0m to check the enabled clouds."
     ]
    }
   ],
   "source": [
    "load_transformer_remote = rh.function(fn=_load_transformer).to(system=gpu, env=model_env)"
   ]
  },
  {
   "cell_type": "code",
   "execution_count": 6,
   "id": "197d13d2-3925-461a-9634-4ca795622fb3",
   "metadata": {},
   "outputs": [
    {
     "name": "stderr",
     "output_type": "stream",
     "text": [
      "INFO | 2024-03-11 09:09:33.018720 | Copying package from file:///Users/sashabelousovrh/PycharmProjects/LangchainIntegration/langchain to: rh-a10x\n",
      "INFO | 2024-03-11 09:09:35.288750 | Calling base_env.install\n",
      "INFO | 2024-03-11 09:09:36.599561 | Time to call base_env.install: 1.31 seconds\n"
     ]
    },
    {
     "data": {
      "application/vnd.jupyter.widget-view+json": {
       "model_id": "",
       "version_major": 2,
       "version_minor": 0
      },
      "text/plain": [
       "Output()"
      ]
     },
     "metadata": {},
     "output_type": "display_data"
    },
    {
     "data": {
      "text/html": [
       "<pre style=\"white-space:pre;overflow-x:auto;line-height:normal;font-family:Menlo,'DejaVu Sans Mono',consolas,'Courier New',monospace\"></pre>\n"
      ],
      "text/plain": []
     },
     "metadata": {},
     "output_type": "display_data"
    },
    {
     "data": {
      "text/html": [
       "<pre style=\"white-space:pre;overflow-x:auto;line-height:normal;font-family:Menlo,'DejaVu Sans Mono',consolas,'Courier New',monospace\">\n",
       "</pre>\n"
      ],
      "text/plain": [
       "\n"
      ]
     },
     "metadata": {},
     "output_type": "display_data"
    },
    {
     "name": "stderr",
     "output_type": "stream",
     "text": [
      "INFO | 2024-03-11 09:09:40.330158 | Sending module _generate_text to rh-a10x\n"
     ]
    },
    {
     "data": {
      "application/vnd.jupyter.widget-view+json": {
       "model_id": "",
       "version_major": 2,
       "version_minor": 0
      },
      "text/plain": [
       "Output()"
      ]
     },
     "metadata": {},
     "output_type": "display_data"
    },
    {
     "data": {
      "text/html": [
       "<pre style=\"white-space:pre;overflow-x:auto;line-height:normal;font-family:Menlo,'DejaVu Sans Mono',consolas,'Courier New',monospace\"></pre>\n"
      ],
      "text/plain": []
     },
     "metadata": {},
     "output_type": "display_data"
    },
    {
     "data": {
      "text/html": [
       "<pre style=\"white-space:pre;overflow-x:auto;line-height:normal;font-family:Menlo,'DejaVu Sans Mono',consolas,'Courier New',monospace\">\n",
       "</pre>\n"
      ],
      "text/plain": [
       "\n"
      ]
     },
     "metadata": {},
     "output_type": "display_data"
    }
   ],
   "source": [
    "generate_text_remote = rh.function(_generate_text).to(system=gpu, env=model_env)"
   ]
  },
  {
   "cell_type": "code",
   "execution_count": 7,
   "id": "3f3458d9",
   "metadata": {
    "tags": []
   },
   "outputs": [
    {
     "name": "stderr",
     "output_type": "stream",
     "text": [
      "INFO | 2024-03-11 09:09:47.353149 | Calling _load_transformer.call\n"
     ]
    },
    {
     "name": "stdout",
     "output_type": "stream",
     "text": [
      "\u001b[36mNo module named 'langchain_core'\n",
      "\u001b[0m\u001b[36mTraceback (most recent call last):\n",
      "\u001b[0m\u001b[36m  File \"/opt/conda/lib/python3.10/site-packages/runhouse/servers/env_servlet.py\", line 38, in wrapper\n",
      "\u001b[0m\u001b[36m    output = func(*args, **kwargs)\n",
      "\u001b[0m\u001b[36m  File \"/opt/conda/lib/python3.10/site-packages/runhouse/servers/env_servlet.py\", line 113, in call_local\n",
      "\u001b[0m\u001b[36m    return obj_store.call_local(\n",
      "\u001b[0m\u001b[36m  File \"/opt/conda/lib/python3.10/site-packages/runhouse/servers/obj_store.py\", line 951, in call_local\n",
      "\u001b[0m\u001b[36m    res = method(*args, **kwargs)\n",
      "\u001b[0m\u001b[36m  File \"/opt/conda/lib/python3.10/site-packages/runhouse/resources/functions/function.py\", line 114, in call\n",
      "\u001b[0m\u001b[36m    fn = self._get_obj_from_pointers(*self.fn_pointers)\n",
      "\u001b[0m\u001b[36m  File \"/opt/conda/lib/python3.10/site-packages/runhouse/resources/module.py\", line 321, in _get_obj_from_pointers\n",
      "\u001b[0m\u001b[36m    obj_store.imported_modules[module_name] = importlib.import_module(\n",
      "\u001b[0m\u001b[36m  File \"/opt/conda/lib/python3.10/importlib/__init__.py\", line 126, in import_module\n",
      "\u001b[0m\u001b[36m    return _bootstrap._gcd_import(name[level:], package, level)\n",
      "\u001b[0m\u001b[36m  File \"<frozen importlib._bootstrap>\", line 1050, in _gcd_import\n",
      "\u001b[0m\u001b[36m  File \"<frozen importlib._bootstrap>\", line 1027, in _find_and_load\n",
      "\u001b[0m\u001b[36m  File \"<frozen importlib._bootstrap>\", line 992, in _find_and_load_unlocked\n",
      "\u001b[0m\u001b[36m  File \"<frozen importlib._bootstrap>\", line 241, in _call_with_frames_removed\n",
      "\u001b[0m\u001b[36m  File \"<frozen importlib._bootstrap>\", line 1050, in _gcd_import\n",
      "\u001b[0m\u001b[36m  File \"<frozen importlib._bootstrap>\", line 1027, in _find_and_load\n",
      "\u001b[0m\u001b[36m  File \"<frozen importlib._bootstrap>\", line 1006, in _find_and_load_unlocked\n",
      "\u001b[0m\u001b[36m  File \"<frozen importlib._bootstrap>\", line 688, in _load_unlocked\n",
      "\u001b[0m\u001b[36m  File \"<frozen importlib._bootstrap_external>\", line 883, in exec_module\n",
      "\u001b[0m\u001b[36m  File \"<frozen importlib._bootstrap>\", line 241, in _call_with_frames_removed\n",
      "\u001b[0m\u001b[36m  File \"/home/ubuntu/langchain/libs/community/langchain_community/llms/__init__.py\", line 23, in <module>\n",
      "\u001b[0m\u001b[36m    from langchain_core._api.deprecation import warn_deprecated\n",
      "\u001b[0m\u001b[36mModuleNotFoundError: No module named 'langchain_core'\n",
      "\u001b[0m"
     ]
    },
    {
     "name": "stderr",
     "output_type": "stream",
     "text": [
      "ERROR | 2024-03-11 09:09:48.706122 | \u001b[36mError calling call on _load_transformer on server: gAWVZwAAAAAAAACMCGJ1aWx0aW5zlIwTTW9kdWxlTm90Rm91bmRFcnJvcpSTlIwgTm8gbW9kdWxl\n",
      "IG5hbWVkICdsYW5nY2hhaW5fY29yZSeUhZRSlH2UjARuYW1llIwObGFuZ2NoYWluX2NvcmWUc2Iu\n",
      "\u001b[0m\n",
      "ERROR | 2024-03-11 09:09:48.885432 | \u001b[36mTraceback: gAWVcQcAAAAAAABYagcAAFRyYWNlYmFjayAobW9zdCByZWNlbnQgY2FsbCBsYXN0KToKICBGaWxl\n",
      "ICIvb3B0L2NvbmRhL2xpYi9weXRob24zLjEwL3NpdGUtcGFja2FnZXMvcnVuaG91c2Uvc2VydmVy\n",
      "cy9lbnZfc2VydmxldC5weSIsIGxpbmUgMzgsIGluIHdyYXBwZXIKICAgIG91dHB1dCA9IGZ1bmMo\n",
      "KmFyZ3MsICoqa3dhcmdzKQogIEZpbGUgIi9vcHQvY29uZGEvbGliL3B5dGhvbjMuMTAvc2l0ZS1w\n",
      "YWNrYWdlcy9ydW5ob3VzZS9zZXJ2ZXJzL2Vudl9zZXJ2bGV0LnB5IiwgbGluZSAxMTMsIGluIGNh\n",
      "bGxfbG9jYWwKICAgIHJldHVybiBvYmpfc3RvcmUuY2FsbF9sb2NhbCgKICBGaWxlICIvb3B0L2Nv\n",
      "bmRhL2xpYi9weXRob24zLjEwL3NpdGUtcGFja2FnZXMvcnVuaG91c2Uvc2VydmVycy9vYmpfc3Rv\n",
      "cmUucHkiLCBsaW5lIDk1MSwgaW4gY2FsbF9sb2NhbAogICAgcmVzID0gbWV0aG9kKCphcmdzLCAq\n",
      "Kmt3YXJncykKICBGaWxlICIvb3B0L2NvbmRhL2xpYi9weXRob24zLjEwL3NpdGUtcGFja2FnZXMv\n",
      "cnVuaG91c2UvcmVzb3VyY2VzL2Z1bmN0aW9ucy9mdW5jdGlvbi5weSIsIGxpbmUgMTE0LCBpbiBj\n",
      "YWxsCiAgICBmbiA9IHNlbGYuX2dldF9vYmpfZnJvbV9wb2ludGVycygqc2VsZi5mbl9wb2ludGVy\n",
      "cykKICBGaWxlICIvb3B0L2NvbmRhL2xpYi9weXRob24zLjEwL3NpdGUtcGFja2FnZXMvcnVuaG91\n",
      "c2UvcmVzb3VyY2VzL21vZHVsZS5weSIsIGxpbmUgMzIxLCBpbiBfZ2V0X29ial9mcm9tX3BvaW50\n",
      "ZXJzCiAgICBvYmpfc3RvcmUuaW1wb3J0ZWRfbW9kdWxlc1ttb2R1bGVfbmFtZV0gPSBpbXBvcnRs\n",
      "aWIuaW1wb3J0X21vZHVsZSgKICBGaWxlICIvb3B0L2NvbmRhL2xpYi9weXRob24zLjEwL2ltcG9y\n",
      "dGxpYi9fX2luaXRfXy5weSIsIGxpbmUgMTI2LCBpbiBpbXBvcnRfbW9kdWxlCiAgICByZXR1cm4g\n",
      "X2Jvb3RzdHJhcC5fZ2NkX2ltcG9ydChuYW1lW2xldmVsOl0sIHBhY2thZ2UsIGxldmVsKQogIEZp\n",
      "bGUgIjxmcm96ZW4gaW1wb3J0bGliLl9ib290c3RyYXA+IiwgbGluZSAxMDUwLCBpbiBfZ2NkX2lt\n",
      "cG9ydAogIEZpbGUgIjxmcm96ZW4gaW1wb3J0bGliLl9ib290c3RyYXA+IiwgbGluZSAxMDI3LCBp\n",
      "biBfZmluZF9hbmRfbG9hZAogIEZpbGUgIjxmcm96ZW4gaW1wb3J0bGliLl9ib290c3RyYXA+Iiwg\n",
      "bGluZSA5OTIsIGluIF9maW5kX2FuZF9sb2FkX3VubG9ja2VkCiAgRmlsZSAiPGZyb3plbiBpbXBv\n",
      "cnRsaWIuX2Jvb3RzdHJhcD4iLCBsaW5lIDI0MSwgaW4gX2NhbGxfd2l0aF9mcmFtZXNfcmVtb3Zl\n",
      "ZAogIEZpbGUgIjxmcm96ZW4gaW1wb3J0bGliLl9ib290c3RyYXA+IiwgbGluZSAxMDUwLCBpbiBf\n",
      "Z2NkX2ltcG9ydAogIEZpbGUgIjxmcm96ZW4gaW1wb3J0bGliLl9ib290c3RyYXA+IiwgbGluZSAx\n",
      "MDI3LCBpbiBfZmluZF9hbmRfbG9hZAogIEZpbGUgIjxmcm96ZW4gaW1wb3J0bGliLl9ib290c3Ry\n",
      "YXA+IiwgbGluZSAxMDA2LCBpbiBfZmluZF9hbmRfbG9hZF91bmxvY2tlZAogIEZpbGUgIjxmcm96\n",
      "ZW4gaW1wb3J0bGliLl9ib290c3RyYXA+IiwgbGluZSA2ODgsIGluIF9sb2FkX3VubG9ja2VkCiAg\n",
      "RmlsZSAiPGZyb3plbiBpbXBvcnRsaWIuX2Jvb3RzdHJhcF9leHRlcm5hbD4iLCBsaW5lIDg4Mywg\n",
      "aW4gZXhlY19tb2R1bGUKICBGaWxlICI8ZnJvemVuIGltcG9ydGxpYi5fYm9vdHN0cmFwPiIsIGxp\n",
      "bmUgMjQxLCBpbiBfY2FsbF93aXRoX2ZyYW1lc19yZW1vdmVkCiAgRmlsZSAiL2hvbWUvdWJ1bnR1\n",
      "L2xhbmdjaGFpbi9saWJzL2NvbW11bml0eS9sYW5nY2hhaW5fY29tbXVuaXR5L2xsbXMvX19pbml0\n",
      "X18ucHkiLCBsaW5lIDIzLCBpbiA8bW9kdWxlPgogICAgZnJvbSBsYW5nY2hhaW5fY29yZS5fYXBp\n",
      "LmRlcHJlY2F0aW9uIGltcG9ydCB3YXJuX2RlcHJlY2F0ZWQKTW9kdWxlTm90Rm91bmRFcnJvcjog\n",
      "Tm8gbW9kdWxlIG5hbWVkICdsYW5nY2hhaW5fY29yZScKlC4=\n",
      "\u001b[0m\n"
     ]
    },
    {
     "ename": "TypeError",
     "evalue": "exceptions must derive from BaseException",
     "output_type": "error",
     "traceback": [
      "\u001b[0;31m---------------------------------------------------------------------------\u001b[0m",
      "\u001b[0;31mTypeError\u001b[0m                                 Traceback (most recent call last)",
      "Cell \u001b[0;32mIn[7], line 2\u001b[0m\n\u001b[1;32m      1\u001b[0m \u001b[38;5;66;03m#llm = SelfHostedHuggingFaceLLM(name=\"gemma-2b-it\", model_id=\"gemma-2b-it\", model_load_fn=load_transformer_remote, inference_fn=generate_text_remote).to(gpu, env=model_env)\u001b[39;00m\n\u001b[0;32m----> 2\u001b[0m self_hosted_llm \u001b[38;5;241m=\u001b[39m \u001b[43mSelfHostedHuggingFaceLLM\u001b[49m\u001b[43m(\u001b[49m\u001b[43mname\u001b[49m\u001b[38;5;241;43m=\u001b[39;49m\u001b[38;5;124;43m\"\u001b[39;49m\u001b[38;5;124;43mgemma-2b-it\u001b[39;49m\u001b[38;5;124;43m\"\u001b[39;49m\u001b[43m,\u001b[49m\n\u001b[1;32m      3\u001b[0m \u001b[43m                                           \u001b[49m\u001b[43mmodel_id\u001b[49m\u001b[38;5;241;43m=\u001b[39;49m\u001b[38;5;124;43m\"\u001b[39;49m\u001b[38;5;124;43mgemma-2b-it\u001b[39;49m\u001b[38;5;124;43m\"\u001b[39;49m\u001b[43m,\u001b[49m\n\u001b[1;32m      4\u001b[0m \u001b[43m                                           \u001b[49m\u001b[43mmodel_load_fn\u001b[49m\u001b[38;5;241;43m=\u001b[39;49m\u001b[43mload_transformer_remote\u001b[49m\u001b[43m,\u001b[49m\n\u001b[1;32m      5\u001b[0m \u001b[43m                                           \u001b[49m\u001b[43minference_fn\u001b[49m\u001b[38;5;241;43m=\u001b[39;49m\u001b[43mgenerate_text_remote\u001b[49m\u001b[43m,\u001b[49m\n\u001b[1;32m      6\u001b[0m \u001b[43m                                           \u001b[49m\u001b[43menv\u001b[49m\u001b[38;5;241;43m=\u001b[39;49m\u001b[43mmodel_env\u001b[49m\u001b[43m)\u001b[49m\n",
      "File \u001b[0;32m~/PycharmProjects/LangchainIntegration/langchain/libs/community/langchain_community/llms/self_hosted_hugging_face.py:190\u001b[0m, in \u001b[0;36mSelfHostedHuggingFaceLLM.__init__\u001b[0;34m(self, **kwargs)\u001b[0m\n\u001b[1;32m    176\u001b[0m \u001b[38;5;250m\u001b[39m\u001b[38;5;124;03m\"\"\"Construct the pipeline remotely using an auxiliary function.\u001b[39;00m\n\u001b[1;32m    177\u001b[0m \n\u001b[1;32m    178\u001b[0m \u001b[38;5;124;03mThe load function needs to be importable to be imported\u001b[39;00m\n\u001b[1;32m    179\u001b[0m \u001b[38;5;124;03mand run on the server, i.e. in a module and not a REPL or closure.\u001b[39;00m\n\u001b[1;32m    180\u001b[0m \u001b[38;5;124;03mThen, initialize the remote inference function.\u001b[39;00m\n\u001b[1;32m    181\u001b[0m \u001b[38;5;124;03m\"\"\"\u001b[39;00m\n\u001b[1;32m    182\u001b[0m load_fn_kwargs \u001b[38;5;241m=\u001b[39m {\n\u001b[1;32m    183\u001b[0m     \u001b[38;5;124m\"\u001b[39m\u001b[38;5;124mmodel_id\u001b[39m\u001b[38;5;124m\"\u001b[39m: kwargs\u001b[38;5;241m.\u001b[39mget(\u001b[38;5;124m\"\u001b[39m\u001b[38;5;124mmodel_id\u001b[39m\u001b[38;5;124m\"\u001b[39m),\n\u001b[1;32m    184\u001b[0m     \u001b[38;5;124m\"\u001b[39m\u001b[38;5;124mdevice\u001b[39m\u001b[38;5;124m\"\u001b[39m: kwargs\u001b[38;5;241m.\u001b[39mget(\u001b[38;5;124m\"\u001b[39m\u001b[38;5;124mdevice\u001b[39m\u001b[38;5;124m\"\u001b[39m, \u001b[38;5;241m0\u001b[39m),  \u001b[38;5;66;03m# TODO: set to auto according to the api or remove\u001b[39;00m\n\u001b[0;32m   (...)\u001b[0m\n\u001b[1;32m    188\u001b[0m     \u001b[38;5;124m\"\u001b[39m\u001b[38;5;124mload_fn_kwargs\u001b[39m\u001b[38;5;124m\"\u001b[39m: kwargs\u001b[38;5;241m.\u001b[39mget(\u001b[38;5;124m\"\u001b[39m\u001b[38;5;124mmodel_kwargs\u001b[39m\u001b[38;5;124m\"\u001b[39m, \u001b[38;5;28;01mNone\u001b[39;00m),\n\u001b[1;32m    189\u001b[0m }\n\u001b[0;32m--> 190\u001b[0m \u001b[38;5;28;43msuper\u001b[39;49m\u001b[43m(\u001b[49m\u001b[43m)\u001b[49m\u001b[38;5;241;43m.\u001b[39;49m\u001b[38;5;21;43m__init__\u001b[39;49m\u001b[43m(\u001b[49m\u001b[38;5;241;43m*\u001b[39;49m\u001b[38;5;241;43m*\u001b[39;49m\u001b[43mload_fn_kwargs\u001b[49m\u001b[43m)\u001b[49m\n",
      "File \u001b[0;32m~/PycharmProjects/LangchainIntegration/langchain/libs/community/langchain_community/llms/self_hosted.py:132\u001b[0m, in \u001b[0;36mSelfHostedPipeline.__init__\u001b[0;34m(self, **kwargs)\u001b[0m\n\u001b[1;32m    130\u001b[0m \u001b[38;5;28msuper\u001b[39m()\u001b[38;5;241m.\u001b[39m\u001b[38;5;21m__init__\u001b[39m(\u001b[38;5;241m*\u001b[39m\u001b[38;5;241m*\u001b[39mkwargs)\n\u001b[1;32m    131\u001b[0m _load_fn_kwargs \u001b[38;5;241m=\u001b[39m \u001b[38;5;28mself\u001b[39m\u001b[38;5;241m.\u001b[39mload_fn_kwargs \u001b[38;5;129;01mor\u001b[39;00m {}\n\u001b[0;32m--> 132\u001b[0m \u001b[38;5;28mself\u001b[39m\u001b[38;5;241m.\u001b[39mpipeline_ref \u001b[38;5;241m=\u001b[39m \u001b[38;5;28;43mself\u001b[39;49m\u001b[38;5;241;43m.\u001b[39;49m\u001b[43mmodel_load_fn\u001b[49m\u001b[43m(\u001b[49m\u001b[43m_load_fn_kwargs\u001b[49m\u001b[43m)\u001b[49m\n\u001b[1;32m    134\u001b[0m \u001b[38;5;28mself\u001b[39m\u001b[38;5;241m.\u001b[39mclient \u001b[38;5;241m=\u001b[39m \u001b[38;5;28mself\u001b[39m\u001b[38;5;241m.\u001b[39minference_fn\n",
      "File \u001b[0;32m~/miniforge3/envs/rh_langchain_env/lib/python3.9/site-packages/runhouse/resources/functions/function.py:110\u001b[0m, in \u001b[0;36mFunction.__call__\u001b[0;34m(self, *args, **kwargs)\u001b[0m\n\u001b[1;32m     96\u001b[0m \u001b[38;5;28;01mdef\u001b[39;00m \u001b[38;5;21m__call__\u001b[39m(\u001b[38;5;28mself\u001b[39m, \u001b[38;5;241m*\u001b[39margs, \u001b[38;5;241m*\u001b[39m\u001b[38;5;241m*\u001b[39mkwargs) \u001b[38;5;241m-\u001b[39m\u001b[38;5;241m>\u001b[39m Any:\n\u001b[1;32m     97\u001b[0m \u001b[38;5;250m    \u001b[39m\u001b[38;5;124;03m\"\"\"Call the function on its system\u001b[39;00m\n\u001b[1;32m     98\u001b[0m \n\u001b[1;32m     99\u001b[0m \u001b[38;5;124;03m    Args:\u001b[39;00m\n\u001b[0;32m   (...)\u001b[0m\n\u001b[1;32m    108\u001b[0m \u001b[38;5;124;03m        The Function's return value\u001b[39;00m\n\u001b[1;32m    109\u001b[0m \u001b[38;5;124;03m    \"\"\"\u001b[39;00m\n\u001b[0;32m--> 110\u001b[0m     \u001b[38;5;28;01mreturn\u001b[39;00m \u001b[38;5;28;43mself\u001b[39;49m\u001b[38;5;241;43m.\u001b[39;49m\u001b[43mcall\u001b[49m\u001b[43m(\u001b[49m\u001b[38;5;241;43m*\u001b[39;49m\u001b[43margs\u001b[49m\u001b[43m,\u001b[49m\u001b[43m \u001b[49m\u001b[38;5;241;43m*\u001b[39;49m\u001b[38;5;241;43m*\u001b[39;49m\u001b[43mkwargs\u001b[49m\u001b[43m)\u001b[49m\n",
      "File \u001b[0;32m~/miniforge3/envs/rh_langchain_env/lib/python3.9/site-packages/runhouse/resources/module.py:479\u001b[0m, in \u001b[0;36mModule.__getattribute__.<locals>.RemoteMethodWrapper.__call__\u001b[0;34m(self, *args, **kwargs)\u001b[0m\n\u001b[1;32m    474\u001b[0m \u001b[38;5;28;01mdef\u001b[39;00m \u001b[38;5;21m__call__\u001b[39m(\u001b[38;5;28mself\u001b[39m, \u001b[38;5;241m*\u001b[39margs, \u001b[38;5;241m*\u001b[39m\u001b[38;5;241m*\u001b[39mkwargs):\n\u001b[1;32m    475\u001b[0m     \u001b[38;5;66;03m# stream_logs and run_name are both supported args here, but we can't include them explicitly because\u001b[39;00m\n\u001b[1;32m    476\u001b[0m     \u001b[38;5;66;03m# the local code path here will throw an error if they are included and not supported in the\u001b[39;00m\n\u001b[1;32m    477\u001b[0m     \u001b[38;5;66;03m# method signature.\u001b[39;00m\n\u001b[0;32m--> 479\u001b[0m     \u001b[38;5;28;01mreturn\u001b[39;00m \u001b[43mclient\u001b[49m\u001b[38;5;241;43m.\u001b[39;49m\u001b[43mcall\u001b[49m\u001b[43m(\u001b[49m\n\u001b[1;32m    480\u001b[0m \u001b[43m        \u001b[49m\u001b[43mname\u001b[49m\u001b[43m,\u001b[49m\n\u001b[1;32m    481\u001b[0m \u001b[43m        \u001b[49m\u001b[43mitem\u001b[49m\u001b[43m,\u001b[49m\n\u001b[1;32m    482\u001b[0m \u001b[43m        \u001b[49m\u001b[43mrun_name\u001b[49m\u001b[38;5;241;43m=\u001b[39;49m\u001b[43mkwargs\u001b[49m\u001b[38;5;241;43m.\u001b[39;49m\u001b[43mpop\u001b[49m\u001b[43m(\u001b[49m\u001b[38;5;124;43m\"\u001b[39;49m\u001b[38;5;124;43mrun_name\u001b[39;49m\u001b[38;5;124;43m\"\u001b[39;49m\u001b[43m,\u001b[49m\u001b[43m \u001b[49m\u001b[38;5;28;43;01mNone\u001b[39;49;00m\u001b[43m)\u001b[49m\u001b[43m,\u001b[49m\n\u001b[1;32m    483\u001b[0m \u001b[43m        \u001b[49m\u001b[43mstream_logs\u001b[49m\u001b[38;5;241;43m=\u001b[39;49m\u001b[43mkwargs\u001b[49m\u001b[38;5;241;43m.\u001b[39;49m\u001b[43mpop\u001b[49m\u001b[43m(\u001b[49m\u001b[38;5;124;43m\"\u001b[39;49m\u001b[38;5;124;43mstream_logs\u001b[39;49m\u001b[38;5;124;43m\"\u001b[39;49m\u001b[43m,\u001b[49m\u001b[43m \u001b[49m\u001b[38;5;28;43;01mTrue\u001b[39;49;00m\u001b[43m)\u001b[49m\u001b[43m,\u001b[49m\n\u001b[1;32m    484\u001b[0m \u001b[43m        \u001b[49m\u001b[43mremote\u001b[49m\u001b[38;5;241;43m=\u001b[39;49m\u001b[43mkwargs\u001b[49m\u001b[38;5;241;43m.\u001b[39;49m\u001b[43mpop\u001b[49m\u001b[43m(\u001b[49m\u001b[38;5;124;43m\"\u001b[39;49m\u001b[38;5;124;43mremote\u001b[39;49m\u001b[38;5;124;43m\"\u001b[39;49m\u001b[43m,\u001b[49m\u001b[43m \u001b[49m\u001b[38;5;28;43;01mFalse\u001b[39;49;00m\u001b[43m)\u001b[49m\u001b[43m,\u001b[49m\n\u001b[1;32m    485\u001b[0m \u001b[43m        \u001b[49m\u001b[43mdata\u001b[49m\u001b[38;5;241;43m=\u001b[39;49m\u001b[43m[\u001b[49m\u001b[43margs\u001b[49m\u001b[43m,\u001b[49m\u001b[43m \u001b[49m\u001b[43mkwargs\u001b[49m\u001b[43m]\u001b[49m\u001b[43m,\u001b[49m\n\u001b[1;32m    486\u001b[0m \u001b[43m    \u001b[49m\u001b[43m)\u001b[49m\n",
      "File \u001b[0;32m~/miniforge3/envs/rh_langchain_env/lib/python3.9/site-packages/runhouse/servers/http/http_client.py:302\u001b[0m, in \u001b[0;36mHTTPClient.call\u001b[0;34m(self, key, method_name, data, serialization, resource_address, run_name, stream_logs, remote, run_async, save)\u001b[0m\n\u001b[1;32m    288\u001b[0m \u001b[38;5;28;01mdef\u001b[39;00m \u001b[38;5;21mcall\u001b[39m(\n\u001b[1;32m    289\u001b[0m     \u001b[38;5;28mself\u001b[39m,\n\u001b[1;32m    290\u001b[0m     key: \u001b[38;5;28mstr\u001b[39m,\n\u001b[0;32m   (...)\u001b[0m\n\u001b[1;32m    299\u001b[0m     save\u001b[38;5;241m=\u001b[39m\u001b[38;5;28;01mFalse\u001b[39;00m,\n\u001b[1;32m    300\u001b[0m ):\n\u001b[1;32m    301\u001b[0m \u001b[38;5;250m    \u001b[39m\u001b[38;5;124;03m\"\"\"wrapper to temporarily support cluster's call signature\"\"\"\u001b[39;00m\n\u001b[0;32m--> 302\u001b[0m     \u001b[38;5;28;01mreturn\u001b[39;00m \u001b[38;5;28;43mself\u001b[39;49m\u001b[38;5;241;43m.\u001b[39;49m\u001b[43mcall_module_method\u001b[49m\u001b[43m(\u001b[49m\n\u001b[1;32m    303\u001b[0m \u001b[43m        \u001b[49m\u001b[43mkey\u001b[49m\u001b[43m,\u001b[49m\n\u001b[1;32m    304\u001b[0m \u001b[43m        \u001b[49m\u001b[43mmethod_name\u001b[49m\u001b[43m,\u001b[49m\n\u001b[1;32m    305\u001b[0m \u001b[43m        \u001b[49m\u001b[43mdata\u001b[49m\u001b[38;5;241;43m=\u001b[39;49m\u001b[43mdata\u001b[49m\u001b[43m,\u001b[49m\n\u001b[1;32m    306\u001b[0m \u001b[43m        \u001b[49m\u001b[43mserialization\u001b[49m\u001b[38;5;241;43m=\u001b[39;49m\u001b[43mserialization\u001b[49m\u001b[43m,\u001b[49m\n\u001b[1;32m    307\u001b[0m \u001b[43m        \u001b[49m\u001b[43mresource_address\u001b[49m\u001b[38;5;241;43m=\u001b[39;49m\u001b[43mresource_address\u001b[49m\u001b[43m \u001b[49m\u001b[38;5;129;43;01mor\u001b[39;49;00m\u001b[43m \u001b[49m\u001b[38;5;28;43mself\u001b[39;49m\u001b[38;5;241;43m.\u001b[39;49m\u001b[43mresource_address\u001b[49m\u001b[43m,\u001b[49m\n\u001b[1;32m    308\u001b[0m \u001b[43m        \u001b[49m\u001b[43mrun_name\u001b[49m\u001b[38;5;241;43m=\u001b[39;49m\u001b[43mrun_name\u001b[49m\u001b[43m,\u001b[49m\n\u001b[1;32m    309\u001b[0m \u001b[43m        \u001b[49m\u001b[43mstream_logs\u001b[49m\u001b[38;5;241;43m=\u001b[39;49m\u001b[43mstream_logs\u001b[49m\u001b[43m,\u001b[49m\n\u001b[1;32m    310\u001b[0m \u001b[43m        \u001b[49m\u001b[43mremote\u001b[49m\u001b[38;5;241;43m=\u001b[39;49m\u001b[43mremote\u001b[49m\u001b[43m,\u001b[49m\n\u001b[1;32m    311\u001b[0m \u001b[43m        \u001b[49m\u001b[43mrun_async\u001b[49m\u001b[38;5;241;43m=\u001b[39;49m\u001b[43mrun_async\u001b[49m\u001b[43m,\u001b[49m\n\u001b[1;32m    312\u001b[0m \u001b[43m        \u001b[49m\u001b[43msave\u001b[49m\u001b[38;5;241;43m=\u001b[39;49m\u001b[43msave\u001b[49m\u001b[43m,\u001b[49m\n\u001b[1;32m    313\u001b[0m \u001b[43m        \u001b[49m\u001b[43msystem\u001b[49m\u001b[38;5;241;43m=\u001b[39;49m\u001b[38;5;28;43mself\u001b[39;49m\u001b[38;5;241;43m.\u001b[39;49m\u001b[43msystem\u001b[49m\u001b[43m,\u001b[49m\n\u001b[1;32m    314\u001b[0m \u001b[43m    \u001b[49m\u001b[43m)\u001b[49m\n",
      "File \u001b[0;32m~/miniforge3/envs/rh_langchain_env/lib/python3.9/site-packages/runhouse/servers/http/http_client.py:380\u001b[0m, in \u001b[0;36mHTTPClient.call_module_method\u001b[0;34m(self, key, method_name, data, serialization, resource_address, run_name, stream_logs, remote, run_async, save, system)\u001b[0m\n\u001b[1;32m    378\u001b[0m resp \u001b[38;5;241m=\u001b[39m json\u001b[38;5;241m.\u001b[39mloads(responses_json)\n\u001b[1;32m    379\u001b[0m output_type \u001b[38;5;241m=\u001b[39m resp[\u001b[38;5;124m\"\u001b[39m\u001b[38;5;124moutput_type\u001b[39m\u001b[38;5;124m\"\u001b[39m]\n\u001b[0;32m--> 380\u001b[0m result \u001b[38;5;241m=\u001b[39m \u001b[43mhandle_response\u001b[49m\u001b[43m(\u001b[49m\n\u001b[1;32m    381\u001b[0m \u001b[43m    \u001b[49m\u001b[43mresp\u001b[49m\u001b[43m,\u001b[49m\u001b[43m \u001b[49m\u001b[43moutput_type\u001b[49m\u001b[43m,\u001b[49m\u001b[43m \u001b[49m\u001b[43merror_str\u001b[49m\u001b[43m,\u001b[49m\u001b[43m \u001b[49m\u001b[43mlog_formatter\u001b[49m\u001b[38;5;241;43m=\u001b[39;49m\u001b[38;5;28;43mself\u001b[39;49m\u001b[38;5;241;43m.\u001b[39;49m\u001b[43mlog_formatter\u001b[49m\n\u001b[1;32m    382\u001b[0m \u001b[43m\u001b[49m\u001b[43m)\u001b[49m\n\u001b[1;32m    383\u001b[0m \u001b[38;5;28;01mif\u001b[39;00m output_type \u001b[38;5;241m==\u001b[39m OutputType\u001b[38;5;241m.\u001b[39mCONFIG:\n\u001b[1;32m    384\u001b[0m     \u001b[38;5;66;03m# If this was a `.remote` call, we don't need to recreate the system and connection, which can be\u001b[39;00m\n\u001b[1;32m    385\u001b[0m     \u001b[38;5;66;03m# slow, we can just set it explicitly.\u001b[39;00m\n\u001b[1;32m    386\u001b[0m     \u001b[38;5;28;01mif\u001b[39;00m (\n\u001b[1;32m    387\u001b[0m         system\n\u001b[1;32m    388\u001b[0m         \u001b[38;5;129;01mand\u001b[39;00m \u001b[38;5;124m\"\u001b[39m\u001b[38;5;124msystem\u001b[39m\u001b[38;5;124m\"\u001b[39m \u001b[38;5;129;01min\u001b[39;00m result\n\u001b[1;32m    389\u001b[0m         \u001b[38;5;129;01mand\u001b[39;00m system\u001b[38;5;241m.\u001b[39mrns_address \u001b[38;5;241m==\u001b[39m result[\u001b[38;5;124m\"\u001b[39m\u001b[38;5;124msystem\u001b[39m\u001b[38;5;124m\"\u001b[39m]\n\u001b[1;32m    390\u001b[0m     ):\n",
      "File \u001b[0;32m~/miniforge3/envs/rh_langchain_env/lib/python3.9/site-packages/runhouse/servers/http/http_utils.py:241\u001b[0m, in \u001b[0;36mhandle_response\u001b[0;34m(response_data, output_type, err_str, log_formatter)\u001b[0m\n\u001b[1;32m    239\u001b[0m         logger\u001b[38;5;241m.\u001b[39merror(\u001b[38;5;124mf\u001b[39m\u001b[38;5;124m\"\u001b[39m\u001b[38;5;132;01m{\u001b[39;00msystem_color\u001b[38;5;132;01m}\u001b[39;00m\u001b[38;5;132;01m{\u001b[39;00merr_str\u001b[38;5;132;01m}\u001b[39;00m\u001b[38;5;124m: \u001b[39m\u001b[38;5;132;01m{\u001b[39;00mfn_exception\u001b[38;5;132;01m}\u001b[39;00m\u001b[38;5;132;01m{\u001b[39;00mreset_color\u001b[38;5;132;01m}\u001b[39;00m\u001b[38;5;124m\"\u001b[39m)\n\u001b[1;32m    240\u001b[0m         logger\u001b[38;5;241m.\u001b[39merror(\u001b[38;5;124mf\u001b[39m\u001b[38;5;124m\"\u001b[39m\u001b[38;5;132;01m{\u001b[39;00msystem_color\u001b[38;5;132;01m}\u001b[39;00m\u001b[38;5;124mTraceback: \u001b[39m\u001b[38;5;132;01m{\u001b[39;00mfn_traceback\u001b[38;5;132;01m}\u001b[39;00m\u001b[38;5;132;01m{\u001b[39;00mreset_color\u001b[38;5;132;01m}\u001b[39;00m\u001b[38;5;124m\"\u001b[39m)\n\u001b[0;32m--> 241\u001b[0m     \u001b[38;5;28;01mraise\u001b[39;00m fn_exception\n\u001b[1;32m    242\u001b[0m \u001b[38;5;28;01melif\u001b[39;00m output_type \u001b[38;5;241m==\u001b[39m OutputType\u001b[38;5;241m.\u001b[39mSTDOUT:\n\u001b[1;32m    243\u001b[0m     res \u001b[38;5;241m=\u001b[39m response_data[\u001b[38;5;124m\"\u001b[39m\u001b[38;5;124mdata\u001b[39m\u001b[38;5;124m\"\u001b[39m]\n",
      "\u001b[0;31mTypeError\u001b[0m: exceptions must derive from BaseException"
     ]
    }
   ],
   "source": [
    "#llm = SelfHostedHuggingFaceLLM(name=\"gemma-2b-it\", model_id=\"gemma-2b-it\", model_load_fn=load_transformer_remote, inference_fn=generate_text_remote).to(gpu, env=model_env)\n",
    "self_hosted_llm = SelfHostedHuggingFaceLLM(name=\"gemma-2b-it\",\n",
    "                                           model_id=\"gemma-2b-it\",\n",
    "                                           model_load_fn=load_transformer_remote,\n",
    "                                           inference_fn=generate_text_remote).to(system=gpu, env=model_env)"
   ]
  },
  {
   "cell_type": "code",
   "execution_count": null,
   "id": "a641dbd9",
   "metadata": {},
   "outputs": [],
   "source": [
    "llm_chain = LLMChain(prompt=prompt, llm=llm)"
   ]
  },
  {
   "cell_type": "code",
   "execution_count": null,
   "id": "6fb6fdb2",
   "metadata": {},
   "outputs": [],
   "source": [
    "question = \"What NFL team won the Super Bowl in the year Justin Beiber was born?\"\n",
    "\n",
    "llm_chain.run(question)"
   ]
  },
  {
   "cell_type": "markdown",
   "id": "c88709cd",
   "metadata": {},
   "source": [
    "You can also load more custom models through the SelfHostedHuggingFaceLLM interface:"
   ]
  },
  {
   "cell_type": "code",
   "execution_count": null,
   "id": "22820c5a",
   "metadata": {
    "scrolled": true
   },
   "outputs": [],
   "source": [
    "llm = SelfHostedHuggingFaceLLM(\n",
    "    model_id=\"google/flan-t5-small\",\n",
    "    task=\"text2text-generation\",\n",
    "    hardware=gpu,\n",
    ")"
   ]
  },
  {
   "cell_type": "code",
   "execution_count": null,
   "id": "1528e70f",
   "metadata": {},
   "outputs": [],
   "source": [
    "llm(\"What is the capital of Germany?\")"
   ]
  },
  {
   "cell_type": "markdown",
   "id": "7a0c3746",
   "metadata": {},
   "source": [
    "Using a custom load function, we can load a custom pipeline directly on the remote hardware:"
   ]
  },
  {
   "cell_type": "code",
   "execution_count": null,
   "id": "893eb1d3",
   "metadata": {},
   "outputs": [],
   "source": [
    "def load_pipeline():\n",
    "    from transformers import (\n",
    "        AutoModelForCausalLM,\n",
    "        AutoTokenizer,\n",
    "        pipeline,\n",
    "    )\n",
    "\n",
    "    model_id = \"gpt2\"\n",
    "    tokenizer = AutoTokenizer.from_pretrained(model_id)\n",
    "    model = AutoModelForCausalLM.from_pretrained(model_id)\n",
    "    pipe = pipeline(\n",
    "        \"text-generation\", model=model, tokenizer=tokenizer, max_new_tokens=10\n",
    "    )\n",
    "    return pipe\n",
    "\n",
    "\n",
    "def inference_fn(pipeline, prompt, stop=None):\n",
    "    return pipeline(prompt)[0][\"generated_text\"][len(prompt) :]"
   ]
  },
  {
   "cell_type": "code",
   "execution_count": null,
   "id": "087d50dc",
   "metadata": {
    "scrolled": true
   },
   "outputs": [],
   "source": [
    "llm = SelfHostedHuggingFaceLLM(\n",
    "    model_load_fn=load_pipeline, hardware=gpu, inference_fn=inference_fn\n",
    ")"
   ]
  },
  {
   "cell_type": "code",
   "execution_count": null,
   "id": "feb8da8e",
   "metadata": {},
   "outputs": [],
   "source": [
    "llm(\"Who is the current US president?\")"
   ]
  },
  {
   "cell_type": "markdown",
   "id": "af08575f",
   "metadata": {},
   "source": [
    "You can send your pipeline directly over the wire to your model, but this will only work for small models (<2 Gb), and will be pretty slow:"
   ]
  },
  {
   "cell_type": "code",
   "execution_count": null,
   "id": "d23023b9",
   "metadata": {},
   "outputs": [],
   "source": [
    "pipeline = load_pipeline()\n",
    "llm = SelfHostedPipeline.from_pipeline(\n",
    "    pipeline=pipeline, hardware=gpu, model_reqs=[\"pip:./\", \"transformers\", \"torch\"]\n",
    ")"
   ]
  },
  {
   "cell_type": "markdown",
   "id": "fcb447a1",
   "metadata": {},
   "source": [
    "Instead, we can also send it to the hardware's filesystem, which will be much faster."
   ]
  },
  {
   "cell_type": "code",
   "execution_count": null,
   "id": "7206b7d6",
   "metadata": {},
   "outputs": [],
   "source": [
    "import pickle\n",
    "\n",
    "rh.blob(pickle.dumps(pipeline), path=\"models/pipeline.pkl\").save().to(\n",
    "    gpu, path=\"models\"\n",
    ")\n",
    "\n",
    "llm = SelfHostedPipeline.from_pipeline(pipeline=\"models/pipeline.pkl\", hardware=gpu)"
   ]
  }
 ],
 "metadata": {
  "kernelspec": {
   "display_name": "Python 3 (ipykernel)",
   "language": "python",
   "name": "python3"
  },
  "language_info": {
   "codemirror_mode": {
    "name": "ipython",
    "version": 3
   },
   "file_extension": ".py",
   "mimetype": "text/x-python",
   "name": "python",
   "nbconvert_exporter": "python",
   "pygments_lexer": "ipython3",
   "version": "3.9.15"
  }
 },
 "nbformat": 4,
 "nbformat_minor": 5
}
